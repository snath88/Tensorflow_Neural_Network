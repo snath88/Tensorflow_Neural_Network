{
 "cells": [
  {
   "cell_type": "code",
   "execution_count": 1,
   "id": "2b65872c-61d1-4c5c-a1d5-ff55ddab28d3",
   "metadata": {},
   "outputs": [],
   "source": [
    "import pandas as pd\n",
    "import numpy as np\n",
    "import matplotlib.pyplot as plt"
   ]
  },
  {
   "cell_type": "code",
   "execution_count": 2,
   "id": "e5c9319b-62d6-41c4-b86a-d703efa1baa3",
   "metadata": {},
   "outputs": [],
   "source": [
    "from tensorflow.keras.datasets import mnist"
   ]
  },
  {
   "cell_type": "code",
   "execution_count": 3,
   "id": "09bff389-fd53-4781-b84e-bf8dd7513b3a",
   "metadata": {},
   "outputs": [],
   "source": [
    "(x_train,y_train),(x_test,y_test)=mnist.load_data()"
   ]
  },
  {
   "cell_type": "code",
   "execution_count": 4,
   "id": "7d5dbf9d-375f-4569-b4ba-30edb3595377",
   "metadata": {},
   "outputs": [
    {
     "data": {
      "text/plain": [
       "array([False,  True, False, ..., False, False, False])"
      ]
     },
     "execution_count": 4,
     "metadata": {},
     "output_type": "execute_result"
    }
   ],
   "source": [
    "# filter out only the images with 0s\n",
    "\n",
    "y_train==0"
   ]
  },
  {
   "cell_type": "code",
   "execution_count": 5,
   "id": "6b9e0417-fb7b-4ded-b048-1382ff11d9a3",
   "metadata": {},
   "outputs": [],
   "source": [
    "x_zeroes=x_train[y_train==1]"
   ]
  },
  {
   "cell_type": "code",
   "execution_count": 6,
   "id": "ba032098-6c10-4256-b909-4a306bb1386c",
   "metadata": {
    "scrolled": true
   },
   "outputs": [
    {
     "data": {
      "text/plain": [
       "<matplotlib.image.AxesImage at 0x2397fec69a0>"
      ]
     },
     "execution_count": 6,
     "metadata": {},
     "output_type": "execute_result"
    },
    {
     "data": {
      "image/png": "[encoded data removed]",
      "text/plain": [
       "<Figure size 640x480 with 1 Axes>"
      ]
     },
     "metadata": {},
     "output_type": "display_data"
    }
   ],
   "source": [
    "plt.imshow(x_zeroes[0])"
   ]
  },
  {
   "cell_type": "code",
   "execution_count": 7,
   "id": "019bad62-7f66-4658-9db5-42f434c4469c",
   "metadata": {},
   "outputs": [],
   "source": [
    "import tensorflow as tf\n",
    "from tensorflow.keras.layers import Dense, Flatten, Reshape\n",
    "from tensorflow.keras.models import Sequential"
   ]
  },
  {
   "cell_type": "code",
   "execution_count": 8,
   "id": "83fef675-e31d-4146-aa5c-5344c6e45446",
   "metadata": {},
   "outputs": [],
   "source": [
    "discriminator=Sequential()\n",
    "discriminator.add(Flatten(input_shape=[28,28]))\n",
    "discriminator.add(Dense(150,activation='relu'))\n",
    "discriminator.add(Dense(100,activation='relu'))\n",
    "## final layer will say image is true or false\n",
    "discriminator.add(Dense(1,activation='sigmoid'))\n",
    "discriminator.compile(loss='binary_crossentropy',optimizer='adam')"
   ]
  },
  {
   "cell_type": "code",
   "execution_count": 9,
   "id": "30932c05-7dd5-4cba-98ec-424b19c3d112",
   "metadata": {},
   "outputs": [],
   "source": [
    "coding_size=100\n",
    "\n",
    "# 100->150-->784, generator actually a decoding part which build images to fool discriminator\n",
    "generator=Sequential()\n",
    "generator.add(Dense(100,activation='relu',input_shape=[coding_size]))\n",
    "generator.add(Dense(150,activation='relu'))\n",
    "generator.add(Dense(784,activation='relu'))\n",
    "generator.add(Reshape([28,28]))"
   ]
  },
  {
   "cell_type": "code",
   "execution_count": 10,
   "id": "33927dbf-cf89-463c-a13b-7fa0752f57b5",
   "metadata": {},
   "outputs": [],
   "source": [
    "### dont compile generator\n",
    "\n",
    "GAN=Sequential([generator,discriminator])"
   ]
  },
  {
   "cell_type": "code",
   "execution_count": 11,
   "id": "f7ecb2fc-6520-4b96-9ca1-39cab5016449",
   "metadata": {},
   "outputs": [],
   "source": [
    "discriminator.trainable=False"
   ]
  },
  {
   "cell_type": "code",
   "execution_count": 12,
   "id": "27afe623-e9b2-4a4e-bffc-4f466fd0ac7d",
   "metadata": {},
   "outputs": [],
   "source": [
    "GAN.compile(loss='binary_crossentropy',optimizer='adam')"
   ]
  },
  {
   "cell_type": "code",
   "execution_count": 13,
   "id": "5da9ba49-3053-4f1e-ad52-8e51381fcd93",
   "metadata": {},
   "outputs": [],
   "source": [
    "batch_size=32"
   ]
  },
  {
   "cell_type": "code",
   "execution_count": 14,
   "id": "5481dd09-bade-4321-9181-0afc7c7267b6",
   "metadata": {},
   "outputs": [],
   "source": [
    "dataset=tf.data.Dataset.from_tensor_slices(x_zeroes).shuffle(buffer_size=10000)"
   ]
  },
  {
   "cell_type": "code",
   "execution_count": 15,
   "id": "1d5a0da1-806f-46a4-beaf-fc7edc03cb78",
   "metadata": {},
   "outputs": [],
   "source": [
    "dataset=dataset.batch(batch_size,drop_remainder=True)"
   ]
  },
  {
   "cell_type": "code",
   "execution_count": 16,
   "id": "c113ab66-b768-4967-9bde-64ee0411737a",
   "metadata": {},
   "outputs": [],
   "source": [
    "dataset=dataset.prefetch(1)  \n",
    "# Most dataset input pipelines should end with a call to `prefetch`. This\n",
    "# allows later elements to be prepared while the current element is being\n",
    "# processed. This often improves latency and throughput, at the cost of\n",
    "# using additional memory to store prefetched elements."
   ]
  },
  {
   "cell_type": "code",
   "execution_count": 17,
   "id": "ec2e5729-68a1-48ed-8da7-c3d289dd8bc9",
   "metadata": {},
   "outputs": [
    {
     "data": {
      "text/plain": [
       "((6742, 28, 28), 185.09375)"
      ]
     },
     "execution_count": 17,
     "metadata": {},
     "output_type": "execute_result"
    }
   ],
   "source": [
    "x_zeroes.shape, 5923/32 ##remainder will drop"
   ]
  },
  {
   "cell_type": "code",
   "execution_count": 18,
   "id": "d260a188-edc7-4cfb-98d3-363c55b9ebe8",
   "metadata": {},
   "outputs": [
    {
     "data": {
      "text/plain": [
       "<keras.src.engine.sequential.Sequential at 0x23903cbc160>"
      ]
     },
     "execution_count": 18,
     "metadata": {},
     "output_type": "execute_result"
    }
   ],
   "source": [
    "GAN"
   ]
  },
  {
   "cell_type": "code",
   "execution_count": 19,
   "id": "9d162272-7bb8-469f-8980-d3ff70106fc6",
   "metadata": {},
   "outputs": [
    {
     "data": {
      "text/plain": [
       "[<keras.src.engine.sequential.Sequential at 0x239035a69a0>,\n",
       " <keras.src.engine.sequential.Sequential at 0x23903c67ee0>]"
      ]
     },
     "execution_count": 19,
     "metadata": {},
     "output_type": "execute_result"
    }
   ],
   "source": [
    "GAN.layers"
   ]
  },
  {
   "cell_type": "code",
   "execution_count": 20,
   "id": "a7ec524c-d364-49ea-ba0b-155d02cad6ef",
   "metadata": {},
   "outputs": [
    {
     "data": {
      "text/plain": [
       "<keras.src.engine.sequential.Sequential at 0x239035a69a0>"
      ]
     },
     "execution_count": 20,
     "metadata": {},
     "output_type": "execute_result"
    }
   ],
   "source": [
    "GAN.layers[0]"
   ]
  },
  {
   "cell_type": "code",
   "execution_count": 21,
   "id": "dd82603b-179f-4847-b5b0-d4026151306d",
   "metadata": {},
   "outputs": [
    {
     "data": {
      "text/plain": [
       "[<keras.src.layers.core.dense.Dense at 0x23903c67f10>,\n",
       " <keras.src.layers.core.dense.Dense at 0x2397f958eb0>,\n",
       " <keras.src.layers.core.dense.Dense at 0x23903cb26d0>,\n",
       " <keras.src.layers.reshaping.reshape.Reshape at 0x23903cb2910>]"
      ]
     },
     "execution_count": 21,
     "metadata": {},
     "output_type": "execute_result"
    }
   ],
   "source": [
    "GAN.layers[0].layers"
   ]
  },
  {
   "cell_type": "code",
   "execution_count": 22,
   "id": "d1f009c2-1fd1-483d-abcb-b6b8ddea4562",
   "metadata": {},
   "outputs": [],
   "source": [
    "epochs=1"
   ]
  },
  {
   "cell_type": "code",
   "execution_count": 23,
   "id": "07257a69-05de-45a7-a86d-0297e385cbfb",
   "metadata": {},
   "outputs": [
    {
     "name": "stdout",
     "output_type": "stream",
     "text": [
      "Current epoch is 1\n",
      "Currently on batch number 100 of 210\n",
      "Currently on batch number 200 of 210\n"
     ]
    }
   ],
   "source": [
    "generator, discriminator=GAN.layers\n",
    "\n",
    "for epoch in range(epochs):\n",
    "    print(f'Current epoch is {epoch+1}')\n",
    "    i=0\n",
    "    for x_batch in dataset:\n",
    "        i=i+1\n",
    "        if (i%100==0):\n",
    "            print(f'Currently on batch number {i} of {len(x_zeroes)//batch_size}')\n",
    "        ## Discriminator training phase\n",
    "        noise=tf.random.normal([batch_size,coding_size])\n",
    "        gen_image=generator(noise)\n",
    "        x_fake_vs_real=tf.concat([gen_image,tf.cast(x_batch, dtype=tf.float32)],axis=0)\n",
    "        y=tf.constant([[0.0]]*batch_size+[[1.0]]*batch_size)\n",
    "        discriminator.trainable=True\n",
    "        discriminator.train_on_batch(x_fake_vs_real,y)\n",
    "        ## Generator training phase\n",
    "        noise=tf.random.normal([batch_size,coding_size])\n",
    "        y2=tf.constant([[1.0]]*batch_size)\n",
    "        discriminator.trainable=False\n",
    "        GAN.train_on_batch(noise,y2)\n",
    "        "
   ]
  },
  {
   "cell_type": "code",
   "execution_count": 24,
   "id": "59ad2b7f-21f9-43e3-8234-5e073498a7ae",
   "metadata": {},
   "outputs": [],
   "source": [
    "noise=tf.random.normal([10,coding_size])  ## generate 10 images"
   ]
  },
  {
   "cell_type": "code",
   "execution_count": 25,
   "id": "0220cff0-e8e7-4083-bc99-6d1fb0bd757f",
   "metadata": {},
   "outputs": [
    {
     "data": {
      "text/plain": [
       "<matplotlib.image.AxesImage at 0x23903cf29d0>"
      ]
     },
     "execution_count": 25,
     "metadata": {},
     "output_type": "execute_result"
    },
    {
     "data": {
      "image/png": "[encoded data removed]",
      "text/plain": [
       "<Figure size 640x480 with 1 Axes>"
      ]
     },
     "metadata": {},
     "output_type": "display_data"
    }
   ],
   "source": [
    "plt.imshow(noise)"
   ]
  },
  {
   "cell_type": "code",
   "execution_count": 26,
   "id": "9e09c62a-8aa8-4e5c-a1f5-b06ece92cff6",
   "metadata": {},
   "outputs": [],
   "source": [
    "images=generator(noise)"
   ]
  },
  {
   "cell_type": "code",
   "execution_count": 27,
   "id": "b19783a1-14c0-4cb9-ab33-ef511394bb55",
   "metadata": {},
   "outputs": [
    {
     "data": {
      "text/plain": [
       "TensorShape([10, 28, 28])"
      ]
     },
     "execution_count": 27,
     "metadata": {},
     "output_type": "execute_result"
    }
   ],
   "source": [
    "images.shape"
   ]
  },
  {
   "cell_type": "markdown",
   "id": "8e583ce9-fb00-4166-a0ce-727aa6ecffa0",
   "metadata": {},
   "source": [
    "## mood colapse, generating same images to foll discriminator"
   ]
  },
  {
   "cell_type": "code",
   "execution_count": 29,
   "id": "46775066-dcfd-45fd-a7a3-c93a6583e0be",
   "metadata": {},
   "outputs": [
    {
     "data": {
      "text/plain": [
       "<matplotlib.image.AxesImage at 0x23907760610>"
      ]
     },
     "execution_count": 29,
     "metadata": {},
     "output_type": "execute_result"
    },
    {
     "data": {
      "image/png": "[encoded data removed]",
      "text/plain": [
       "<Figure size 640x480 with 1 Axes>"
      ]
     },
     "metadata": {},
     "output_type": "display_data"
    }
   ],
   "source": [
    "plt.imshow(images[7])"
   ]
  },
  {
   "cell_type": "code",
   "execution_count": 60,
   "id": "2042870b-f852-4f9e-a4b1-1502a58e5ea7",
   "metadata": {},
   "outputs": [
    {
     "data": {
      "text/plain": [
       "<matplotlib.image.AxesImage at 0x2397ff736a0>"
      ]
     },
     "execution_count": 60,
     "metadata": {},
     "output_type": "execute_result"
    },
    {
     "data": {
      "image/png": "[encoded data removed]",
      "text/plain": [
       "<Figure size 640x480 with 1 Axes>"
      ]
     },
     "metadata": {},
     "output_type": "display_data"
    }
   ],
   "source": [
    "plt.imshow(images[4])"
   ]
  }
 ],
 "metadata": {
  "kernelspec": {
   "display_name": "Python (py_tf)",
   "language": "python",
   "name": "py_tf"
  },
  "language_info": {
   "codemirror_mode": {
    "name": "ipython",
    "version": 3
   },
   "file_extension": ".py",
   "mimetype": "text/x-python",
   "name": "python",
   "nbconvert_exporter": "python",
   "pygments_lexer": "ipython3",
   "version": "3.8.20"
  }
 },
 "nbformat": 4,
 "nbformat_minor": 5
}
