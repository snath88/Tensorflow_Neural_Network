{
 "cells": [
  {
   "cell_type": "code",
   "execution_count": 2,
   "id": "d74e3460-1a3d-4b33-a2b6-a27a69ca0863",
   "metadata": {},
   "outputs": [],
   "source": [
    "import pandas as pd\n",
    "import numpy as np\n",
    "import seaborn as sns\n",
    "import matplotlib.pyplot as plt"
   ]
  },
  {
   "cell_type": "code",
   "execution_count": 4,
   "id": "a8404034-e8fa-4101-ad5e-3761a1ddb07f",
   "metadata": {},
   "outputs": [],
   "source": [
    "df=pd.read_csv('Absenteeism_data.csv')"
   ]
  },
  {
   "cell_type": "code",
   "execution_count": 6,
   "id": "3b29380c-ed31-4e14-bd8c-d015d5d1adfe",
   "metadata": {},
   "outputs": [
    {
     "data": {
      "text/html": [
       "<div>\n",
       "<style scoped>\n",
       "    .dataframe tbody tr th:only-of-type {\n",
       "        vertical-align: middle;\n",
       "    }\n",
       "\n",
       "    .dataframe tbody tr th {\n",
       "        vertical-align: top;\n",
       "    }\n",
       "\n",
       "    .dataframe thead th {\n",
       "        text-align: right;\n",
       "    }\n",
       "</style>\n",
       "<table border=\"1\" class=\"dataframe\">\n",
       "  <thead>\n",
       "    <tr style=\"text-align: right;\">\n",
       "      <th></th>\n",
       "      <th>ID</th>\n",
       "      <th>Reason for Absence</th>\n",
       "      <th>Date</th>\n",
       "      <th>Transportation Expense</th>\n",
       "      <th>Distance to Work</th>\n",
       "      <th>Age</th>\n",
       "      <th>Daily Work Load Average</th>\n",
       "      <th>Body Mass Index</th>\n",
       "      <th>Education</th>\n",
       "      <th>Children</th>\n",
       "      <th>Pets</th>\n",
       "      <th>Absenteeism Time in Hours</th>\n",
       "    </tr>\n",
       "  </thead>\n",
       "  <tbody>\n",
       "    <tr>\n",
       "      <th>0</th>\n",
       "      <td>11</td>\n",
       "      <td>26</td>\n",
       "      <td>07/07/2015</td>\n",
       "      <td>289</td>\n",
       "      <td>36</td>\n",
       "      <td>33</td>\n",
       "      <td>239.554</td>\n",
       "      <td>30</td>\n",
       "      <td>1</td>\n",
       "      <td>2</td>\n",
       "      <td>1</td>\n",
       "      <td>4</td>\n",
       "    </tr>\n",
       "    <tr>\n",
       "      <th>1</th>\n",
       "      <td>36</td>\n",
       "      <td>0</td>\n",
       "      <td>14/07/2015</td>\n",
       "      <td>118</td>\n",
       "      <td>13</td>\n",
       "      <td>50</td>\n",
       "      <td>239.554</td>\n",
       "      <td>31</td>\n",
       "      <td>1</td>\n",
       "      <td>1</td>\n",
       "      <td>0</td>\n",
       "      <td>0</td>\n",
       "    </tr>\n",
       "    <tr>\n",
       "      <th>2</th>\n",
       "      <td>3</td>\n",
       "      <td>23</td>\n",
       "      <td>15/07/2015</td>\n",
       "      <td>179</td>\n",
       "      <td>51</td>\n",
       "      <td>38</td>\n",
       "      <td>239.554</td>\n",
       "      <td>31</td>\n",
       "      <td>1</td>\n",
       "      <td>0</td>\n",
       "      <td>0</td>\n",
       "      <td>2</td>\n",
       "    </tr>\n",
       "    <tr>\n",
       "      <th>3</th>\n",
       "      <td>7</td>\n",
       "      <td>7</td>\n",
       "      <td>16/07/2015</td>\n",
       "      <td>279</td>\n",
       "      <td>5</td>\n",
       "      <td>39</td>\n",
       "      <td>239.554</td>\n",
       "      <td>24</td>\n",
       "      <td>1</td>\n",
       "      <td>2</td>\n",
       "      <td>0</td>\n",
       "      <td>4</td>\n",
       "    </tr>\n",
       "    <tr>\n",
       "      <th>4</th>\n",
       "      <td>11</td>\n",
       "      <td>23</td>\n",
       "      <td>23/07/2015</td>\n",
       "      <td>289</td>\n",
       "      <td>36</td>\n",
       "      <td>33</td>\n",
       "      <td>239.554</td>\n",
       "      <td>30</td>\n",
       "      <td>1</td>\n",
       "      <td>2</td>\n",
       "      <td>1</td>\n",
       "      <td>2</td>\n",
       "    </tr>\n",
       "  </tbody>\n",
       "</table>\n",
       "</div>"
      ],
      "text/plain": [
       "   ID  Reason for Absence        Date  Transportation Expense  \\\n",
       "0  11                  26  07/07/2015                     289   \n",
       "1  36                   0  14/07/2015                     118   \n",
       "2   3                  23  15/07/2015                     179   \n",
       "3   7                   7  16/07/2015                     279   \n",
       "4  11                  23  23/07/2015                     289   \n",
       "\n",
       "   Distance to Work  Age  Daily Work Load Average  Body Mass Index  Education  \\\n",
       "0                36   33                  239.554               30          1   \n",
       "1                13   50                  239.554               31          1   \n",
       "2                51   38                  239.554               31          1   \n",
       "3                 5   39                  239.554               24          1   \n",
       "4                36   33                  239.554               30          1   \n",
       "\n",
       "   Children  Pets  Absenteeism Time in Hours  \n",
       "0         2     1                          4  \n",
       "1         1     0                          0  \n",
       "2         0     0                          2  \n",
       "3         2     0                          4  \n",
       "4         2     1                          2  "
      ]
     },
     "execution_count": 6,
     "metadata": {},
     "output_type": "execute_result"
    }
   ],
   "source": [
    "df.head()"
   ]
  },
  {
   "cell_type": "code",
   "execution_count": 8,
   "id": "d1f1edca-62a2-471b-a678-a62aae3ea980",
   "metadata": {
    "scrolled": true
   },
   "outputs": [],
   "source": [
    "df.drop('ID',axis=1,inplace=True)"
   ]
  },
  {
   "cell_type": "code",
   "execution_count": 28,
   "id": "c7cd1aca-75a6-4b22-a543-5e6c6e444229",
   "metadata": {},
   "outputs": [
    {
     "data": {
      "text/plain": [
       "array([ 0,  1,  2,  3,  4,  5,  6,  7,  8,  9, 10, 11, 12, 13, 14, 15, 16,\n",
       "       17, 18, 19, 21, 22, 23, 24, 25, 26, 27, 28], dtype=int64)"
      ]
     },
     "execution_count": 28,
     "metadata": {},
     "output_type": "execute_result"
    }
   ],
   "source": [
    "a=df['Reason for Absence'].unique()\n",
    "a.sort()\n",
    "a"
   ]
  },
  {
   "cell_type": "code",
   "execution_count": 5,
   "id": "d59d9275-ca06-4979-8054-fbc670ee2c90",
   "metadata": {},
   "outputs": [
    {
     "data": {
      "text/plain": [
       "array([ 0,  1,  2,  3,  4,  5,  6,  7,  8,  9, 10, 11, 12, 13, 14, 15, 16,\n",
       "       17, 18, 19, 21, 22, 23, 24, 25, 26, 27, 28], dtype=int64)"
      ]
     },
     "execution_count": 5,
     "metadata": {},
     "output_type": "execute_result"
    }
   ],
   "source": [
    "np.sort(df['Reason for Absence'].unique())"
   ]
  },
  {
   "cell_type": "code",
   "execution_count": 6,
   "id": "7743b64e-5746-4a2d-a7e4-b474e56c2249",
   "metadata": {},
   "outputs": [],
   "source": [
    "def group_reason(reason):\n",
    "    if reason==0:\n",
    "        return 0\n",
    "    elif 1<=reason<=14:\n",
    "        return 1\n",
    "    elif 15<=reason<=17:\n",
    "        return 2\n",
    "    elif 18<=reason<=21:\n",
    "        return 3\n",
    "    elif 22<=reason<=28:\n",
    "        return 4"
   ]
  },
  {
   "cell_type": "code",
   "execution_count": 7,
   "id": "f00cc612-8228-4e4f-b530-d44c58ebe6a3",
   "metadata": {},
   "outputs": [],
   "source": [
    "df_1=df.copy()"
   ]
  },
  {
   "cell_type": "code",
   "execution_count": 8,
   "id": "5a044bd6-7f6a-432d-85a3-da84799f5866",
   "metadata": {
    "scrolled": true
   },
   "outputs": [],
   "source": [
    "df_1['Reason']=df_1['Reason for Absence'].apply(group_reason)"
   ]
  },
  {
   "cell_type": "code",
   "execution_count": 9,
   "id": "68e1480e-a852-4d84-972c-52db158993d5",
   "metadata": {},
   "outputs": [],
   "source": [
    "df_1.drop('Reason for Absence',axis=1,inplace=True)"
   ]
  },
  {
   "cell_type": "code",
   "execution_count": 10,
   "id": "6c1c85f4-9957-4903-8d82-eda5560a6ab4",
   "metadata": {},
   "outputs": [
    {
     "data": {
      "text/html": [
       "<div>\n",
       "<style scoped>\n",
       "    .dataframe tbody tr th:only-of-type {\n",
       "        vertical-align: middle;\n",
       "    }\n",
       "\n",
       "    .dataframe tbody tr th {\n",
       "        vertical-align: top;\n",
       "    }\n",
       "\n",
       "    .dataframe thead th {\n",
       "        text-align: right;\n",
       "    }\n",
       "</style>\n",
       "<table border=\"1\" class=\"dataframe\">\n",
       "  <thead>\n",
       "    <tr style=\"text-align: right;\">\n",
       "      <th></th>\n",
       "      <th>Date</th>\n",
       "      <th>Transportation Expense</th>\n",
       "      <th>Distance to Work</th>\n",
       "      <th>Age</th>\n",
       "      <th>Daily Work Load Average</th>\n",
       "      <th>Body Mass Index</th>\n",
       "      <th>Education</th>\n",
       "      <th>Children</th>\n",
       "      <th>Pets</th>\n",
       "      <th>Absenteeism Time in Hours</th>\n",
       "      <th>Reason</th>\n",
       "    </tr>\n",
       "  </thead>\n",
       "  <tbody>\n",
       "    <tr>\n",
       "      <th>0</th>\n",
       "      <td>07/07/2015</td>\n",
       "      <td>289</td>\n",
       "      <td>36</td>\n",
       "      <td>33</td>\n",
       "      <td>239.554</td>\n",
       "      <td>30</td>\n",
       "      <td>1</td>\n",
       "      <td>2</td>\n",
       "      <td>1</td>\n",
       "      <td>4</td>\n",
       "      <td>4</td>\n",
       "    </tr>\n",
       "    <tr>\n",
       "      <th>1</th>\n",
       "      <td>14/07/2015</td>\n",
       "      <td>118</td>\n",
       "      <td>13</td>\n",
       "      <td>50</td>\n",
       "      <td>239.554</td>\n",
       "      <td>31</td>\n",
       "      <td>1</td>\n",
       "      <td>1</td>\n",
       "      <td>0</td>\n",
       "      <td>0</td>\n",
       "      <td>0</td>\n",
       "    </tr>\n",
       "    <tr>\n",
       "      <th>2</th>\n",
       "      <td>15/07/2015</td>\n",
       "      <td>179</td>\n",
       "      <td>51</td>\n",
       "      <td>38</td>\n",
       "      <td>239.554</td>\n",
       "      <td>31</td>\n",
       "      <td>1</td>\n",
       "      <td>0</td>\n",
       "      <td>0</td>\n",
       "      <td>2</td>\n",
       "      <td>4</td>\n",
       "    </tr>\n",
       "    <tr>\n",
       "      <th>3</th>\n",
       "      <td>16/07/2015</td>\n",
       "      <td>279</td>\n",
       "      <td>5</td>\n",
       "      <td>39</td>\n",
       "      <td>239.554</td>\n",
       "      <td>24</td>\n",
       "      <td>1</td>\n",
       "      <td>2</td>\n",
       "      <td>0</td>\n",
       "      <td>4</td>\n",
       "      <td>1</td>\n",
       "    </tr>\n",
       "    <tr>\n",
       "      <th>4</th>\n",
       "      <td>23/07/2015</td>\n",
       "      <td>289</td>\n",
       "      <td>36</td>\n",
       "      <td>33</td>\n",
       "      <td>239.554</td>\n",
       "      <td>30</td>\n",
       "      <td>1</td>\n",
       "      <td>2</td>\n",
       "      <td>1</td>\n",
       "      <td>2</td>\n",
       "      <td>4</td>\n",
       "    </tr>\n",
       "  </tbody>\n",
       "</table>\n",
       "</div>"
      ],
      "text/plain": [
       "         Date  Transportation Expense  Distance to Work  Age  \\\n",
       "0  07/07/2015                     289                36   33   \n",
       "1  14/07/2015                     118                13   50   \n",
       "2  15/07/2015                     179                51   38   \n",
       "3  16/07/2015                     279                 5   39   \n",
       "4  23/07/2015                     289                36   33   \n",
       "\n",
       "   Daily Work Load Average  Body Mass Index  Education  Children  Pets  \\\n",
       "0                  239.554               30          1         2     1   \n",
       "1                  239.554               31          1         1     0   \n",
       "2                  239.554               31          1         0     0   \n",
       "3                  239.554               24          1         2     0   \n",
       "4                  239.554               30          1         2     1   \n",
       "\n",
       "   Absenteeism Time in Hours  Reason  \n",
       "0                          4       4  \n",
       "1                          0       0  \n",
       "2                          2       4  \n",
       "3                          4       1  \n",
       "4                          2       4  "
      ]
     },
     "execution_count": 10,
     "metadata": {},
     "output_type": "execute_result"
    }
   ],
   "source": [
    "df_1.head()"
   ]
  },
  {
   "cell_type": "code",
   "execution_count": 11,
   "id": "a877ba44-92f0-4951-a1e1-7aa492e79620",
   "metadata": {},
   "outputs": [
    {
     "data": {
      "text/plain": [
       "array([1, 3, 2, 4], dtype=int64)"
      ]
     },
     "execution_count": 11,
     "metadata": {},
     "output_type": "execute_result"
    }
   ],
   "source": [
    "df_1['Education'].unique()"
   ]
  },
  {
   "cell_type": "code",
   "execution_count": 12,
   "id": "fba38111-447e-46ea-aae7-9c76e6267b98",
   "metadata": {},
   "outputs": [
    {
     "data": {
      "text/plain": [
       "Education\n",
       "1    583\n",
       "3     73\n",
       "2     40\n",
       "4      4\n",
       "Name: count, dtype: int64"
      ]
     },
     "execution_count": 12,
     "metadata": {},
     "output_type": "execute_result"
    }
   ],
   "source": [
    "df_1['Education'].value_counts()"
   ]
  },
  {
   "cell_type": "code",
   "execution_count": 13,
   "id": "81e1d520-e048-43ad-bd10-874eaef16cdd",
   "metadata": {},
   "outputs": [],
   "source": [
    "df_1['Education']=df_1['Education'].map({1:1,3:2,2:2,4:2})"
   ]
  },
  {
   "cell_type": "code",
   "execution_count": 14,
   "id": "3db98133-718a-472c-8fdc-4617dbae6a75",
   "metadata": {},
   "outputs": [
    {
     "data": {
      "text/plain": [
       "Education\n",
       "1    583\n",
       "2    117\n",
       "Name: count, dtype: int64"
      ]
     },
     "execution_count": 14,
     "metadata": {},
     "output_type": "execute_result"
    }
   ],
   "source": [
    "df_1['Education'].value_counts()"
   ]
  },
  {
   "cell_type": "code",
   "execution_count": 15,
   "id": "cf04b792-1f3f-4a96-a7a3-d7d43b1d0fee",
   "metadata": {},
   "outputs": [],
   "source": [
    "df_1.drop('Date',axis=1,inplace=True)"
   ]
  },
  {
   "cell_type": "code",
   "execution_count": 16,
   "id": "f8fab094-7e2f-43b8-b42c-14d245dbcc86",
   "metadata": {},
   "outputs": [],
   "source": [
    "y=df_1['Absenteeism Time in Hours']\n",
    "X=df_1.drop('Absenteeism Time in Hours',axis=1)"
   ]
  },
  {
   "cell_type": "code",
   "execution_count": 17,
   "id": "83e518c3-590f-47ba-a2d9-023b3a7cfce9",
   "metadata": {},
   "outputs": [
    {
     "data": {
      "text/plain": [
       "Index(['Transportation Expense', 'Distance to Work', 'Age',\n",
       "       'Daily Work Load Average', 'Body Mass Index', 'Education', 'Children',\n",
       "       'Pets', 'Reason'],\n",
       "      dtype='object')"
      ]
     },
     "execution_count": 17,
     "metadata": {},
     "output_type": "execute_result"
    }
   ],
   "source": [
    "X.columns"
   ]
  },
  {
   "cell_type": "code",
   "execution_count": 18,
   "id": "d3317b8d-8909-40f5-8fa1-18b05dc4f5fa",
   "metadata": {},
   "outputs": [],
   "source": [
    "from sklearn.compose import ColumnTransformer\n",
    "from sklearn.preprocessing import OneHotEncoder, StandardScaler\n",
    "from sklearn.model_selection import train_test_split"
   ]
  },
  {
   "cell_type": "code",
   "execution_count": 19,
   "id": "cc55fefe-fe69-47a6-ae64-cd455f9260f8",
   "metadata": {},
   "outputs": [],
   "source": [
    "preprocessor=ColumnTransformer(\n",
    "    transformers=[\n",
    "        ('num',StandardScaler(),['Transportation Expense', 'Distance to Work', 'Age',\n",
    "       'Daily Work Load Average', 'Body Mass Index', 'Children',\n",
    "       'Pets']),\n",
    "        ('cat',OneHotEncoder(),['Reason','Education'])]\n",
    ")"
   ]
  },
  {
   "cell_type": "code",
   "execution_count": 20,
   "id": "a0ed589c-2493-4a6c-bdf2-088763c20e67",
   "metadata": {},
   "outputs": [],
   "source": [
    "X_preprocessed=preprocessor.fit_transform(X)"
   ]
  },
  {
   "cell_type": "code",
   "execution_count": 47,
   "id": "1288d114-14e0-4989-9734-3f26c42d4490",
   "metadata": {},
   "outputs": [
    {
     "data": {
      "text/plain": [
       "array([ 1.00584437,  0.41281584, -0.53606239, -0.80633129,  0.76743118,\n",
       "        0.88046927,  0.26848661,  0.        ,  0.        ,  0.        ,\n",
       "        0.        ,  1.        ,  1.        ,  0.        ])"
      ]
     },
     "execution_count": 47,
     "metadata": {},
     "output_type": "execute_result"
    }
   ],
   "source": [
    "X_preprocessed[0]"
   ]
  },
  {
   "cell_type": "code",
   "execution_count": 21,
   "id": "1b538569-50f3-476b-a770-5d02293415b5",
   "metadata": {},
   "outputs": [],
   "source": [
    "X_train, X_test, y_train, y_test = train_test_split(X_preprocessed, y, test_size=0.25, random_state=42)"
   ]
  },
  {
   "cell_type": "code",
   "execution_count": 22,
   "id": "1317e385-27b2-4fd3-a4b2-b186ad199420",
   "metadata": {},
   "outputs": [
    {
     "data": {
      "text/plain": [
       "(525, 14)"
      ]
     },
     "execution_count": 22,
     "metadata": {},
     "output_type": "execute_result"
    }
   ],
   "source": [
    "X_train.shape"
   ]
  },
  {
   "cell_type": "code",
   "execution_count": 23,
   "id": "9be8a3ce-4c6b-4b0e-895a-0454b471916e",
   "metadata": {},
   "outputs": [],
   "source": [
    "from tensorflow.keras.models import Sequential\n",
    "from tensorflow.keras.layers import Dense"
   ]
  },
  {
   "cell_type": "code",
   "execution_count": 24,
   "id": "9451dacf-8769-45e3-83f6-bc0d8d817c16",
   "metadata": {},
   "outputs": [],
   "source": [
    "model=Sequential()"
   ]
  },
  {
   "cell_type": "code",
   "execution_count": 25,
   "id": "a4ff16b9-c180-4c4a-8fd1-140953965e2c",
   "metadata": {},
   "outputs": [],
   "source": [
    "model.add(Dense(14,activation='relu',input_shape=(X_train.shape[1],)))\n",
    "model.add(Dense(28,activation='relu'))\n",
    "model.add(Dense(56,activation='relu'))\n",
    "model.add(Dense(112,activation='relu'))\n",
    "model.add(Dense(56,activation='relu'))\n",
    "model.add(Dense(28,activation='relu'))\n",
    "model.add(Dense(14,activation='relu'))\n",
    "model.add(Dense(7,activation='relu'))\n",
    "model.add(Dense(3,activation='relu'))\n",
    "model.add(Dense(1,activation='linear'))"
   ]
  },
  {
   "cell_type": "code",
   "execution_count": 26,
   "id": "bfcf692f-789b-4840-b54e-0f3411e5025f",
   "metadata": {},
   "outputs": [],
   "source": [
    "model.compile(optimizer='adam',loss='mse',metrics=['mae'])"
   ]
  },
  {
   "cell_type": "code",
   "execution_count": 27,
   "id": "43ba9b57-0086-4a37-ab9a-2e9ef8010c78",
   "metadata": {},
   "outputs": [],
   "source": [
    "from tensorflow.keras.callbacks import EarlyStopping"
   ]
  },
  {
   "cell_type": "code",
   "execution_count": 28,
   "id": "99e9b201-1126-4d85-80f6-e83155fce548",
   "metadata": {},
   "outputs": [],
   "source": [
    "early_stop=EarlyStopping(monitor='val_loss',patience=20)"
   ]
  },
  {
   "cell_type": "code",
   "execution_count": 42,
   "id": "b765c1d3-fbda-407f-83f9-61ea60060c71",
   "metadata": {
    "scrolled": true
   },
   "outputs": [
    {
     "name": "stdout",
     "output_type": "stream",
     "text": [
      "Epoch 1/500\n",
      "14/14 [==============================] - 0s 8ms/step - loss: 79.6763 - mae: 3.9427 - val_loss: 178.4848 - val_mae: 5.9151\n",
      "Epoch 2/500\n",
      "14/14 [==============================] - 0s 5ms/step - loss: 81.7949 - mae: 3.9144 - val_loss: 181.0966 - val_mae: 5.9065\n",
      "Epoch 3/500\n",
      "14/14 [==============================] - 0s 5ms/step - loss: 81.6505 - mae: 4.3810 - val_loss: 185.3641 - val_mae: 6.1189\n",
      "Epoch 4/500\n",
      "14/14 [==============================] - 0s 4ms/step - loss: 75.5682 - mae: 3.9587 - val_loss: 181.1171 - val_mae: 5.9458\n",
      "Epoch 5/500\n",
      "14/14 [==============================] - 0s 5ms/step - loss: 71.7788 - mae: 3.9598 - val_loss: 181.1410 - val_mae: 6.0340\n",
      "Epoch 6/500\n",
      "14/14 [==============================] - 0s 5ms/step - loss: 71.8691 - mae: 3.9451 - val_loss: 186.3241 - val_mae: 6.0784\n",
      "Epoch 7/500\n",
      "14/14 [==============================] - 0s 5ms/step - loss: 75.9129 - mae: 4.0153 - val_loss: 188.5859 - val_mae: 6.1633\n",
      "Epoch 8/500\n",
      "14/14 [==============================] - 0s 5ms/step - loss: 72.1272 - mae: 3.9362 - val_loss: 184.1658 - val_mae: 6.0938\n",
      "Epoch 9/500\n",
      "14/14 [==============================] - 0s 5ms/step - loss: 72.4388 - mae: 3.9167 - val_loss: 187.9969 - val_mae: 6.1403\n",
      "Epoch 10/500\n",
      "14/14 [==============================] - 0s 5ms/step - loss: 68.1293 - mae: 3.8085 - val_loss: 188.1725 - val_mae: 6.1570\n",
      "Epoch 11/500\n",
      "14/14 [==============================] - 0s 4ms/step - loss: 67.5503 - mae: 3.7471 - val_loss: 188.7635 - val_mae: 6.1631\n",
      "Epoch 12/500\n",
      "14/14 [==============================] - 0s 5ms/step - loss: 69.9427 - mae: 3.8473 - val_loss: 188.2299 - val_mae: 6.0545\n",
      "Epoch 13/500\n",
      "14/14 [==============================] - 0s 5ms/step - loss: 67.2981 - mae: 3.6828 - val_loss: 191.8105 - val_mae: 6.1974\n",
      "Epoch 14/500\n",
      "14/14 [==============================] - 0s 5ms/step - loss: 69.4790 - mae: 3.7886 - val_loss: 194.1665 - val_mae: 6.2016\n",
      "Epoch 15/500\n",
      "14/14 [==============================] - 0s 4ms/step - loss: 70.9984 - mae: 3.7053 - val_loss: 188.9670 - val_mae: 6.1119\n",
      "Epoch 16/500\n",
      "14/14 [==============================] - 0s 4ms/step - loss: 67.5508 - mae: 3.7616 - val_loss: 192.5276 - val_mae: 6.1794\n",
      "Epoch 17/500\n",
      "14/14 [==============================] - 0s 4ms/step - loss: 73.1191 - mae: 3.7654 - val_loss: 182.0082 - val_mae: 5.8478\n",
      "Epoch 18/500\n",
      "14/14 [==============================] - 0s 5ms/step - loss: 67.4178 - mae: 3.6144 - val_loss: 192.1747 - val_mae: 6.2831\n",
      "Epoch 19/500\n",
      "14/14 [==============================] - 0s 4ms/step - loss: 66.4638 - mae: 3.7323 - val_loss: 185.0872 - val_mae: 6.1469\n",
      "Epoch 20/500\n",
      "14/14 [==============================] - 0s 4ms/step - loss: 66.3726 - mae: 3.6203 - val_loss: 179.5730 - val_mae: 5.9523\n",
      "Epoch 21/500\n",
      "14/14 [==============================] - 0s 5ms/step - loss: 67.3556 - mae: 3.6095 - val_loss: 187.0733 - val_mae: 6.2218\n"
     ]
    },
    {
     "data": {
      "text/plain": [
       "<keras.src.callbacks.History at 0x1ed9a108340>"
      ]
     },
     "execution_count": 42,
     "metadata": {},
     "output_type": "execute_result"
    }
   ],
   "source": [
    "model.fit(X_train,y_train,epochs=500,shuffle=True,validation_split=0.2,callbacks=[early_stop])"
   ]
  },
  {
   "cell_type": "code",
   "execution_count": 43,
   "id": "af923df0-7a20-4e50-8078-862c20303d47",
   "metadata": {},
   "outputs": [],
   "source": [
    "df_loss=pd.DataFrame(model.history.history)"
   ]
  },
  {
   "cell_type": "code",
   "execution_count": 31,
   "id": "cb95439d-79dd-4392-9ea8-dc6aff1a1367",
   "metadata": {
    "scrolled": true
   },
   "outputs": [
    {
     "data": {
      "text/html": [
       "<div>\n",
       "<style scoped>\n",
       "    .dataframe tbody tr th:only-of-type {\n",
       "        vertical-align: middle;\n",
       "    }\n",
       "\n",
       "    .dataframe tbody tr th {\n",
       "        vertical-align: top;\n",
       "    }\n",
       "\n",
       "    .dataframe thead th {\n",
       "        text-align: right;\n",
       "    }\n",
       "</style>\n",
       "<table border=\"1\" class=\"dataframe\">\n",
       "  <thead>\n",
       "    <tr style=\"text-align: right;\">\n",
       "      <th></th>\n",
       "      <th>loss</th>\n",
       "      <th>mae</th>\n",
       "      <th>val_loss</th>\n",
       "      <th>val_mae</th>\n",
       "    </tr>\n",
       "  </thead>\n",
       "  <tbody>\n",
       "    <tr>\n",
       "      <th>0</th>\n",
       "      <td>201.340073</td>\n",
       "      <td>6.762173</td>\n",
       "      <td>238.053085</td>\n",
       "      <td>7.663796</td>\n",
       "    </tr>\n",
       "    <tr>\n",
       "      <th>1</th>\n",
       "      <td>201.063400</td>\n",
       "      <td>6.744213</td>\n",
       "      <td>237.660690</td>\n",
       "      <td>7.641894</td>\n",
       "    </tr>\n",
       "    <tr>\n",
       "      <th>2</th>\n",
       "      <td>200.123886</td>\n",
       "      <td>6.684040</td>\n",
       "      <td>235.467957</td>\n",
       "      <td>7.515767</td>\n",
       "    </tr>\n",
       "    <tr>\n",
       "      <th>3</th>\n",
       "      <td>195.028931</td>\n",
       "      <td>6.283729</td>\n",
       "      <td>220.990662</td>\n",
       "      <td>6.648263</td>\n",
       "    </tr>\n",
       "    <tr>\n",
       "      <th>4</th>\n",
       "      <td>174.686478</td>\n",
       "      <td>5.486442</td>\n",
       "      <td>194.438293</td>\n",
       "      <td>6.500258</td>\n",
       "    </tr>\n",
       "    <tr>\n",
       "      <th>5</th>\n",
       "      <td>158.907623</td>\n",
       "      <td>5.477327</td>\n",
       "      <td>191.554428</td>\n",
       "      <td>6.289232</td>\n",
       "    </tr>\n",
       "    <tr>\n",
       "      <th>6</th>\n",
       "      <td>154.339447</td>\n",
       "      <td>5.670490</td>\n",
       "      <td>188.742538</td>\n",
       "      <td>6.373305</td>\n",
       "    </tr>\n",
       "    <tr>\n",
       "      <th>7</th>\n",
       "      <td>150.127136</td>\n",
       "      <td>5.716767</td>\n",
       "      <td>187.946594</td>\n",
       "      <td>6.318401</td>\n",
       "    </tr>\n",
       "    <tr>\n",
       "      <th>8</th>\n",
       "      <td>147.470215</td>\n",
       "      <td>5.475241</td>\n",
       "      <td>187.168671</td>\n",
       "      <td>6.172199</td>\n",
       "    </tr>\n",
       "    <tr>\n",
       "      <th>9</th>\n",
       "      <td>144.935776</td>\n",
       "      <td>5.403553</td>\n",
       "      <td>186.565033</td>\n",
       "      <td>6.077593</td>\n",
       "    </tr>\n",
       "    <tr>\n",
       "      <th>10</th>\n",
       "      <td>143.248749</td>\n",
       "      <td>5.236235</td>\n",
       "      <td>185.767380</td>\n",
       "      <td>6.048421</td>\n",
       "    </tr>\n",
       "    <tr>\n",
       "      <th>11</th>\n",
       "      <td>141.361862</td>\n",
       "      <td>5.221666</td>\n",
       "      <td>184.929855</td>\n",
       "      <td>6.084857</td>\n",
       "    </tr>\n",
       "    <tr>\n",
       "      <th>12</th>\n",
       "      <td>138.922867</td>\n",
       "      <td>5.397522</td>\n",
       "      <td>184.321655</td>\n",
       "      <td>6.115239</td>\n",
       "    </tr>\n",
       "    <tr>\n",
       "      <th>13</th>\n",
       "      <td>138.126801</td>\n",
       "      <td>5.648875</td>\n",
       "      <td>183.423370</td>\n",
       "      <td>6.055484</td>\n",
       "    </tr>\n",
       "    <tr>\n",
       "      <th>14</th>\n",
       "      <td>136.737427</td>\n",
       "      <td>4.976345</td>\n",
       "      <td>182.394272</td>\n",
       "      <td>5.762966</td>\n",
       "    </tr>\n",
       "    <tr>\n",
       "      <th>15</th>\n",
       "      <td>133.884033</td>\n",
       "      <td>5.247972</td>\n",
       "      <td>181.825119</td>\n",
       "      <td>6.323157</td>\n",
       "    </tr>\n",
       "    <tr>\n",
       "      <th>16</th>\n",
       "      <td>133.310440</td>\n",
       "      <td>5.106488</td>\n",
       "      <td>180.326752</td>\n",
       "      <td>5.617193</td>\n",
       "    </tr>\n",
       "    <tr>\n",
       "      <th>17</th>\n",
       "      <td>131.136307</td>\n",
       "      <td>5.003081</td>\n",
       "      <td>178.088501</td>\n",
       "      <td>6.151951</td>\n",
       "    </tr>\n",
       "    <tr>\n",
       "      <th>18</th>\n",
       "      <td>128.101120</td>\n",
       "      <td>5.026488</td>\n",
       "      <td>177.076355</td>\n",
       "      <td>5.942598</td>\n",
       "    </tr>\n",
       "    <tr>\n",
       "      <th>19</th>\n",
       "      <td>126.299591</td>\n",
       "      <td>5.215504</td>\n",
       "      <td>176.478195</td>\n",
       "      <td>6.274123</td>\n",
       "    </tr>\n",
       "    <tr>\n",
       "      <th>20</th>\n",
       "      <td>123.995918</td>\n",
       "      <td>5.152841</td>\n",
       "      <td>173.520660</td>\n",
       "      <td>6.083875</td>\n",
       "    </tr>\n",
       "    <tr>\n",
       "      <th>21</th>\n",
       "      <td>123.017334</td>\n",
       "      <td>5.189443</td>\n",
       "      <td>171.598236</td>\n",
       "      <td>6.233204</td>\n",
       "    </tr>\n",
       "    <tr>\n",
       "      <th>22</th>\n",
       "      <td>121.457489</td>\n",
       "      <td>5.313443</td>\n",
       "      <td>170.296616</td>\n",
       "      <td>6.015176</td>\n",
       "    </tr>\n",
       "    <tr>\n",
       "      <th>23</th>\n",
       "      <td>119.943573</td>\n",
       "      <td>4.795257</td>\n",
       "      <td>169.336609</td>\n",
       "      <td>5.958117</td>\n",
       "    </tr>\n",
       "    <tr>\n",
       "      <th>24</th>\n",
       "      <td>117.774788</td>\n",
       "      <td>5.000349</td>\n",
       "      <td>167.493530</td>\n",
       "      <td>5.999731</td>\n",
       "    </tr>\n",
       "    <tr>\n",
       "      <th>25</th>\n",
       "      <td>115.235016</td>\n",
       "      <td>4.937180</td>\n",
       "      <td>167.424667</td>\n",
       "      <td>6.017226</td>\n",
       "    </tr>\n",
       "    <tr>\n",
       "      <th>26</th>\n",
       "      <td>114.384834</td>\n",
       "      <td>4.891359</td>\n",
       "      <td>165.737854</td>\n",
       "      <td>6.011157</td>\n",
       "    </tr>\n",
       "    <tr>\n",
       "      <th>27</th>\n",
       "      <td>111.937035</td>\n",
       "      <td>4.708407</td>\n",
       "      <td>164.039551</td>\n",
       "      <td>5.814398</td>\n",
       "    </tr>\n",
       "    <tr>\n",
       "      <th>28</th>\n",
       "      <td>111.167625</td>\n",
       "      <td>4.691849</td>\n",
       "      <td>163.221054</td>\n",
       "      <td>5.942770</td>\n",
       "    </tr>\n",
       "    <tr>\n",
       "      <th>29</th>\n",
       "      <td>108.247635</td>\n",
       "      <td>4.819004</td>\n",
       "      <td>161.975632</td>\n",
       "      <td>5.813687</td>\n",
       "    </tr>\n",
       "    <tr>\n",
       "      <th>30</th>\n",
       "      <td>107.615234</td>\n",
       "      <td>4.826111</td>\n",
       "      <td>161.795227</td>\n",
       "      <td>5.592713</td>\n",
       "    </tr>\n",
       "    <tr>\n",
       "      <th>31</th>\n",
       "      <td>105.051888</td>\n",
       "      <td>4.665935</td>\n",
       "      <td>160.981506</td>\n",
       "      <td>5.960637</td>\n",
       "    </tr>\n",
       "    <tr>\n",
       "      <th>32</th>\n",
       "      <td>110.417854</td>\n",
       "      <td>4.877503</td>\n",
       "      <td>164.078125</td>\n",
       "      <td>5.567443</td>\n",
       "    </tr>\n",
       "    <tr>\n",
       "      <th>33</th>\n",
       "      <td>103.722160</td>\n",
       "      <td>4.897842</td>\n",
       "      <td>166.788834</td>\n",
       "      <td>6.013379</td>\n",
       "    </tr>\n",
       "    <tr>\n",
       "      <th>34</th>\n",
       "      <td>100.249390</td>\n",
       "      <td>4.634598</td>\n",
       "      <td>163.990540</td>\n",
       "      <td>5.439191</td>\n",
       "    </tr>\n",
       "    <tr>\n",
       "      <th>35</th>\n",
       "      <td>101.287033</td>\n",
       "      <td>4.464945</td>\n",
       "      <td>159.847473</td>\n",
       "      <td>5.737790</td>\n",
       "    </tr>\n",
       "    <tr>\n",
       "      <th>36</th>\n",
       "      <td>101.675896</td>\n",
       "      <td>4.958936</td>\n",
       "      <td>154.802795</td>\n",
       "      <td>5.637656</td>\n",
       "    </tr>\n",
       "    <tr>\n",
       "      <th>37</th>\n",
       "      <td>99.184273</td>\n",
       "      <td>4.474061</td>\n",
       "      <td>158.324951</td>\n",
       "      <td>5.276919</td>\n",
       "    </tr>\n",
       "    <tr>\n",
       "      <th>38</th>\n",
       "      <td>96.346138</td>\n",
       "      <td>4.574588</td>\n",
       "      <td>157.990982</td>\n",
       "      <td>5.508460</td>\n",
       "    </tr>\n",
       "    <tr>\n",
       "      <th>39</th>\n",
       "      <td>94.452019</td>\n",
       "      <td>4.363616</td>\n",
       "      <td>161.007629</td>\n",
       "      <td>5.410233</td>\n",
       "    </tr>\n",
       "    <tr>\n",
       "      <th>40</th>\n",
       "      <td>94.535622</td>\n",
       "      <td>4.285378</td>\n",
       "      <td>160.358047</td>\n",
       "      <td>5.581002</td>\n",
       "    </tr>\n",
       "    <tr>\n",
       "      <th>41</th>\n",
       "      <td>93.929359</td>\n",
       "      <td>4.530684</td>\n",
       "      <td>161.815018</td>\n",
       "      <td>5.630941</td>\n",
       "    </tr>\n",
       "    <tr>\n",
       "      <th>42</th>\n",
       "      <td>93.548225</td>\n",
       "      <td>4.371123</td>\n",
       "      <td>164.891754</td>\n",
       "      <td>5.539461</td>\n",
       "    </tr>\n",
       "    <tr>\n",
       "      <th>43</th>\n",
       "      <td>90.020493</td>\n",
       "      <td>4.405795</td>\n",
       "      <td>163.998291</td>\n",
       "      <td>5.715208</td>\n",
       "    </tr>\n",
       "    <tr>\n",
       "      <th>44</th>\n",
       "      <td>89.062500</td>\n",
       "      <td>4.477459</td>\n",
       "      <td>164.347748</td>\n",
       "      <td>5.547075</td>\n",
       "    </tr>\n",
       "    <tr>\n",
       "      <th>45</th>\n",
       "      <td>92.143486</td>\n",
       "      <td>4.346869</td>\n",
       "      <td>165.832306</td>\n",
       "      <td>5.680208</td>\n",
       "    </tr>\n",
       "    <tr>\n",
       "      <th>46</th>\n",
       "      <td>86.492104</td>\n",
       "      <td>4.366705</td>\n",
       "      <td>166.106766</td>\n",
       "      <td>5.625191</td>\n",
       "    </tr>\n",
       "    <tr>\n",
       "      <th>47</th>\n",
       "      <td>90.000595</td>\n",
       "      <td>4.497307</td>\n",
       "      <td>167.233612</td>\n",
       "      <td>5.494014</td>\n",
       "    </tr>\n",
       "    <tr>\n",
       "      <th>48</th>\n",
       "      <td>85.173790</td>\n",
       "      <td>4.182209</td>\n",
       "      <td>168.429596</td>\n",
       "      <td>5.584591</td>\n",
       "    </tr>\n",
       "    <tr>\n",
       "      <th>49</th>\n",
       "      <td>88.203773</td>\n",
       "      <td>4.250081</td>\n",
       "      <td>173.784592</td>\n",
       "      <td>5.859875</td>\n",
       "    </tr>\n",
       "    <tr>\n",
       "      <th>50</th>\n",
       "      <td>88.107948</td>\n",
       "      <td>4.509554</td>\n",
       "      <td>170.122986</td>\n",
       "      <td>5.625559</td>\n",
       "    </tr>\n",
       "    <tr>\n",
       "      <th>51</th>\n",
       "      <td>85.052872</td>\n",
       "      <td>4.165298</td>\n",
       "      <td>170.988541</td>\n",
       "      <td>5.757440</td>\n",
       "    </tr>\n",
       "    <tr>\n",
       "      <th>52</th>\n",
       "      <td>80.705040</td>\n",
       "      <td>4.229165</td>\n",
       "      <td>172.732849</td>\n",
       "      <td>5.734832</td>\n",
       "    </tr>\n",
       "    <tr>\n",
       "      <th>53</th>\n",
       "      <td>80.098579</td>\n",
       "      <td>4.183388</td>\n",
       "      <td>172.354965</td>\n",
       "      <td>5.691375</td>\n",
       "    </tr>\n",
       "    <tr>\n",
       "      <th>54</th>\n",
       "      <td>81.626007</td>\n",
       "      <td>4.184907</td>\n",
       "      <td>175.299789</td>\n",
       "      <td>5.841479</td>\n",
       "    </tr>\n",
       "    <tr>\n",
       "      <th>55</th>\n",
       "      <td>77.693069</td>\n",
       "      <td>4.095274</td>\n",
       "      <td>176.954041</td>\n",
       "      <td>5.835089</td>\n",
       "    </tr>\n",
       "    <tr>\n",
       "      <th>56</th>\n",
       "      <td>85.051064</td>\n",
       "      <td>4.345745</td>\n",
       "      <td>177.186279</td>\n",
       "      <td>5.762123</td>\n",
       "    </tr>\n",
       "  </tbody>\n",
       "</table>\n",
       "</div>"
      ],
      "text/plain": [
       "          loss       mae    val_loss   val_mae\n",
       "0   201.340073  6.762173  238.053085  7.663796\n",
       "1   201.063400  6.744213  237.660690  7.641894\n",
       "2   200.123886  6.684040  235.467957  7.515767\n",
       "3   195.028931  6.283729  220.990662  6.648263\n",
       "4   174.686478  5.486442  194.438293  6.500258\n",
       "5   158.907623  5.477327  191.554428  6.289232\n",
       "6   154.339447  5.670490  188.742538  6.373305\n",
       "7   150.127136  5.716767  187.946594  6.318401\n",
       "8   147.470215  5.475241  187.168671  6.172199\n",
       "9   144.935776  5.403553  186.565033  6.077593\n",
       "10  143.248749  5.236235  185.767380  6.048421\n",
       "11  141.361862  5.221666  184.929855  6.084857\n",
       "12  138.922867  5.397522  184.321655  6.115239\n",
       "13  138.126801  5.648875  183.423370  6.055484\n",
       "14  136.737427  4.976345  182.394272  5.762966\n",
       "15  133.884033  5.247972  181.825119  6.323157\n",
       "16  133.310440  5.106488  180.326752  5.617193\n",
       "17  131.136307  5.003081  178.088501  6.151951\n",
       "18  128.101120  5.026488  177.076355  5.942598\n",
       "19  126.299591  5.215504  176.478195  6.274123\n",
       "20  123.995918  5.152841  173.520660  6.083875\n",
       "21  123.017334  5.189443  171.598236  6.233204\n",
       "22  121.457489  5.313443  170.296616  6.015176\n",
       "23  119.943573  4.795257  169.336609  5.958117\n",
       "24  117.774788  5.000349  167.493530  5.999731\n",
       "25  115.235016  4.937180  167.424667  6.017226\n",
       "26  114.384834  4.891359  165.737854  6.011157\n",
       "27  111.937035  4.708407  164.039551  5.814398\n",
       "28  111.167625  4.691849  163.221054  5.942770\n",
       "29  108.247635  4.819004  161.975632  5.813687\n",
       "30  107.615234  4.826111  161.795227  5.592713\n",
       "31  105.051888  4.665935  160.981506  5.960637\n",
       "32  110.417854  4.877503  164.078125  5.567443\n",
       "33  103.722160  4.897842  166.788834  6.013379\n",
       "34  100.249390  4.634598  163.990540  5.439191\n",
       "35  101.287033  4.464945  159.847473  5.737790\n",
       "36  101.675896  4.958936  154.802795  5.637656\n",
       "37   99.184273  4.474061  158.324951  5.276919\n",
       "38   96.346138  4.574588  157.990982  5.508460\n",
       "39   94.452019  4.363616  161.007629  5.410233\n",
       "40   94.535622  4.285378  160.358047  5.581002\n",
       "41   93.929359  4.530684  161.815018  5.630941\n",
       "42   93.548225  4.371123  164.891754  5.539461\n",
       "43   90.020493  4.405795  163.998291  5.715208\n",
       "44   89.062500  4.477459  164.347748  5.547075\n",
       "45   92.143486  4.346869  165.832306  5.680208\n",
       "46   86.492104  4.366705  166.106766  5.625191\n",
       "47   90.000595  4.497307  167.233612  5.494014\n",
       "48   85.173790  4.182209  168.429596  5.584591\n",
       "49   88.203773  4.250081  173.784592  5.859875\n",
       "50   88.107948  4.509554  170.122986  5.625559\n",
       "51   85.052872  4.165298  170.988541  5.757440\n",
       "52   80.705040  4.229165  172.732849  5.734832\n",
       "53   80.098579  4.183388  172.354965  5.691375\n",
       "54   81.626007  4.184907  175.299789  5.841479\n",
       "55   77.693069  4.095274  176.954041  5.835089\n",
       "56   85.051064  4.345745  177.186279  5.762123"
      ]
     },
     "execution_count": 31,
     "metadata": {},
     "output_type": "execute_result"
    }
   ],
   "source": [
    "df_loss"
   ]
  },
  {
   "cell_type": "code",
   "execution_count": 44,
   "id": "41547b66-25ed-417f-a556-7699c145e107",
   "metadata": {
    "scrolled": true
   },
   "outputs": [
    {
     "data": {
      "text/plain": [
       "<Axes: >"
      ]
     },
     "execution_count": 44,
     "metadata": {},
     "output_type": "execute_result"
    },
    {
     "data": {
      "image/png": "[encoded data removed]",
      "text/plain": [
       "<Figure size 640x480 with 1 Axes>"
      ]
     },
     "metadata": {},
     "output_type": "display_data"
    }
   ],
   "source": [
    "df_loss[['loss','val_loss']].plot()"
   ]
  },
  {
   "cell_type": "code",
   "execution_count": 45,
   "id": "5df42113-2083-40a0-81f5-691cef7ee381",
   "metadata": {},
   "outputs": [
    {
     "data": {
      "text/plain": [
       "<Axes: >"
      ]
     },
     "execution_count": 45,
     "metadata": {},
     "output_type": "execute_result"
    },
    {
     "data": {
      "image/png": "[encoded data removed]",
      "text/plain": [
       "<Figure size 640x480 with 1 Axes>"
      ]
     },
     "metadata": {},
     "output_type": "display_data"
    }
   ],
   "source": [
    "df_loss[['mae','val_mae']].plot()"
   ]
  },
  {
   "cell_type": "code",
   "execution_count": 34,
   "id": "1fbb5e9e-b751-447e-9006-828fa4c7b290",
   "metadata": {},
   "outputs": [
    {
     "name": "stdout",
     "output_type": "stream",
     "text": [
      "6/6 [==============================] - 0s 3ms/step - loss: 163.0030 - mae: 4.8252\n"
     ]
    },
    {
     "data": {
      "text/plain": [
       "[163.0030059814453, 4.825226783752441]"
      ]
     },
     "execution_count": 34,
     "metadata": {},
     "output_type": "execute_result"
    }
   ],
   "source": [
    "model.evaluate(X_test,y_test)"
   ]
  },
  {
   "cell_type": "code",
   "execution_count": 35,
   "id": "3e9b4d60-43cb-46b8-a8a4-14a04a24860e",
   "metadata": {},
   "outputs": [
    {
     "name": "stdout",
     "output_type": "stream",
     "text": [
      "6/6 [==============================] - 0s 1ms/step\n"
     ]
    }
   ],
   "source": [
    "predictions=model.predict(X_test)"
   ]
  },
  {
   "cell_type": "code",
   "execution_count": 36,
   "id": "2cc8ec40-4f0c-4017-a079-25fad7fd1774",
   "metadata": {},
   "outputs": [],
   "source": [
    "df_pred=pd.DataFrame(predictions,columns=['Predicted Hours'])"
   ]
  },
  {
   "cell_type": "code",
   "execution_count": 37,
   "id": "a3cb3049-45fe-4e56-8c0f-590efa25bc75",
   "metadata": {
    "scrolled": true
   },
   "outputs": [],
   "source": [
    "y_test1=y_test.reset_index(drop=True)"
   ]
  },
  {
   "cell_type": "code",
   "execution_count": 38,
   "id": "9e770b2c-d2b2-468f-90a5-5b14f982b815",
   "metadata": {},
   "outputs": [
    {
     "data": {
      "text/plain": [
       "3.0"
      ]
     },
     "execution_count": 38,
     "metadata": {},
     "output_type": "execute_result"
    }
   ],
   "source": [
    "y_test1.median()"
   ]
  },
  {
   "cell_type": "code",
   "execution_count": 39,
   "id": "64db2bc4-beb9-4862-a85f-571f2cece6b8",
   "metadata": {},
   "outputs": [],
   "source": [
    "df_pred['Originl hours']=y_test1"
   ]
  },
  {
   "cell_type": "code",
   "execution_count": 40,
   "id": "6366c23d-deb5-4d90-9204-cb8e2e805050",
   "metadata": {
    "scrolled": true
   },
   "outputs": [
    {
     "data": {
      "text/html": [
       "<div>\n",
       "<style scoped>\n",
       "    .dataframe tbody tr th:only-of-type {\n",
       "        vertical-align: middle;\n",
       "    }\n",
       "\n",
       "    .dataframe tbody tr th {\n",
       "        vertical-align: top;\n",
       "    }\n",
       "\n",
       "    .dataframe thead th {\n",
       "        text-align: right;\n",
       "    }\n",
       "</style>\n",
       "<table border=\"1\" class=\"dataframe\">\n",
       "  <thead>\n",
       "    <tr style=\"text-align: right;\">\n",
       "      <th></th>\n",
       "      <th>Predicted Hours</th>\n",
       "      <th>Originl hours</th>\n",
       "    </tr>\n",
       "  </thead>\n",
       "  <tbody>\n",
       "    <tr>\n",
       "      <th>0</th>\n",
       "      <td>2.430077</td>\n",
       "      <td>8</td>\n",
       "    </tr>\n",
       "    <tr>\n",
       "      <th>1</th>\n",
       "      <td>1.935536</td>\n",
       "      <td>8</td>\n",
       "    </tr>\n",
       "    <tr>\n",
       "      <th>2</th>\n",
       "      <td>1.905845</td>\n",
       "      <td>8</td>\n",
       "    </tr>\n",
       "    <tr>\n",
       "      <th>3</th>\n",
       "      <td>3.233885</td>\n",
       "      <td>2</td>\n",
       "    </tr>\n",
       "    <tr>\n",
       "      <th>4</th>\n",
       "      <td>2.368820</td>\n",
       "      <td>1</td>\n",
       "    </tr>\n",
       "    <tr>\n",
       "      <th>...</th>\n",
       "      <td>...</td>\n",
       "      <td>...</td>\n",
       "    </tr>\n",
       "    <tr>\n",
       "      <th>170</th>\n",
       "      <td>2.585714</td>\n",
       "      <td>2</td>\n",
       "    </tr>\n",
       "    <tr>\n",
       "      <th>171</th>\n",
       "      <td>17.535513</td>\n",
       "      <td>8</td>\n",
       "    </tr>\n",
       "    <tr>\n",
       "      <th>172</th>\n",
       "      <td>5.462594</td>\n",
       "      <td>80</td>\n",
       "    </tr>\n",
       "    <tr>\n",
       "      <th>173</th>\n",
       "      <td>1.734413</td>\n",
       "      <td>0</td>\n",
       "    </tr>\n",
       "    <tr>\n",
       "      <th>174</th>\n",
       "      <td>6.994133</td>\n",
       "      <td>8</td>\n",
       "    </tr>\n",
       "  </tbody>\n",
       "</table>\n",
       "<p>175 rows × 2 columns</p>\n",
       "</div>"
      ],
      "text/plain": [
       "     Predicted Hours  Originl hours\n",
       "0           2.430077              8\n",
       "1           1.935536              8\n",
       "2           1.905845              8\n",
       "3           3.233885              2\n",
       "4           2.368820              1\n",
       "..               ...            ...\n",
       "170         2.585714              2\n",
       "171        17.535513              8\n",
       "172         5.462594             80\n",
       "173         1.734413              0\n",
       "174         6.994133              8\n",
       "\n",
       "[175 rows x 2 columns]"
      ]
     },
     "execution_count": 40,
     "metadata": {},
     "output_type": "execute_result"
    }
   ],
   "source": [
    "df_pred"
   ]
  },
  {
   "cell_type": "code",
   "execution_count": 41,
   "id": "ba878d99-b2c3-4882-836b-4c98d4d59e99",
   "metadata": {},
   "outputs": [
    {
     "name": "stdout",
     "output_type": "stream",
     "text": [
      "R² Score: -0.02315370893490054\n"
     ]
    }
   ],
   "source": [
    "from sklearn.metrics import r2_score\n",
    "\n",
    "# Predict on the test set\n",
    "# Calculate R²\n",
    "r2 = r2_score(y_test, predictions)\n",
    "print(f\"R² Score: {r2}\")"
   ]
  }
 ],
 "metadata": {
  "kernelspec": {
   "display_name": "Python (py_tf)",
   "language": "python",
   "name": "py_tf"
  },
  "language_info": {
   "codemirror_mode": {
    "name": "ipython",
    "version": 3
   },
   "file_extension": ".py",
   "mimetype": "text/x-python",
   "name": "python",
   "nbconvert_exporter": "python",
   "pygments_lexer": "ipython3",
   "version": "3.8.20"
  }
 },
 "nbformat": 4,
 "nbformat_minor": 5
}
