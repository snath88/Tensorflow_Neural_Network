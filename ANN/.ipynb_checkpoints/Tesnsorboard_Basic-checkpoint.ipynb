{
 "cells": [
  {
   "cell_type": "code",
   "execution_count": 2,
   "id": "ca41f554-be70-403c-aa98-63a3137fe2c5",
   "metadata": {},
   "outputs": [],
   "source": [
    "import pandas as pd\n",
    "import numpy as np\n",
    "import seaborn as sns\n",
    "import matplotlib.pyplot as plt"
   ]
  },
  {
   "cell_type": "code",
   "execution_count": 5,
   "id": "1ba63945-ffab-4354-bbe8-f1984b1830a5",
   "metadata": {},
   "outputs": [],
   "source": [
    "df=pd.read_csv('cancer_classification.csv')"
   ]
  },
  {
   "cell_type": "code",
   "execution_count": 8,
   "id": "e0010863-19e1-4b18-a929-fe8d433f35e4",
   "metadata": {},
   "outputs": [],
   "source": [
    "X=df.drop('benign_0__mal_1',axis=1)\n",
    "y=df['benign_0__mal_1']"
   ]
  },
  {
   "cell_type": "code",
   "execution_count": 11,
   "id": "527283a3-e4b1-46c1-992e-4cd6380223be",
   "metadata": {},
   "outputs": [],
   "source": [
    "from sklearn.model_selection import train_test_split"
   ]
  },
  {
   "cell_type": "code",
   "execution_count": 14,
   "id": "d8a65b51-5118-4a93-add8-6a8301341485",
   "metadata": {},
   "outputs": [],
   "source": [
    "X_train, X_test, y_train, y_test = train_test_split(X, y, test_size=0.25, random_state=101)"
   ]
  },
  {
   "cell_type": "code",
   "execution_count": 17,
   "id": "8a117d02-1733-4fc8-989f-5adc4dfe45b4",
   "metadata": {},
   "outputs": [
    {
     "data": {
      "text/plain": [
       "(426, 30)"
      ]
     },
     "execution_count": 17,
     "metadata": {},
     "output_type": "execute_result"
    }
   ],
   "source": [
    "X_train.shape"
   ]
  },
  {
   "cell_type": "code",
   "execution_count": 20,
   "id": "a993bf73-1601-4938-8acd-12af72ceffd9",
   "metadata": {},
   "outputs": [],
   "source": [
    "from sklearn.preprocessing import MinMaxScaler"
   ]
  },
  {
   "cell_type": "code",
   "execution_count": 25,
   "id": "a6d69902-a1ee-4e9c-b03f-5d685f4e586c",
   "metadata": {},
   "outputs": [],
   "source": [
    "scaler=MinMaxScaler()\n",
    "X_train=scaler.fit_transform(X_train)\n",
    "X_test=scaler.transform(X_test)"
   ]
  },
  {
   "cell_type": "code",
   "execution_count": 28,
   "id": "26339dca-a659-4fc3-9516-86e3aae8503e",
   "metadata": {},
   "outputs": [],
   "source": [
    "from tensorflow.keras.models import Sequential\n",
    "from tensorflow.keras.layers import Dense, Dropout\n",
    "from tensorflow.keras.callbacks import EarlyStopping, TensorBoard"
   ]
  },
  {
   "cell_type": "code",
   "execution_count": 30,
   "id": "28bf14c8-6db3-44df-8169-be5d3477383f",
   "metadata": {},
   "outputs": [],
   "source": [
    "early_stop=EarlyStopping(monitor='val_loss',mode='min',patience=25)"
   ]
  },
  {
   "cell_type": "markdown",
   "id": "a1a21069-a987-49c6-b1f5-6d3374883cbb",
   "metadata": {},
   "source": [
    "### Creating the Tensorflow Callback"
   ]
  },
  {
   "cell_type": "code",
   "execution_count": 33,
   "id": "f245bb2b-c78f-4708-af3c-9e387e62748d",
   "metadata": {},
   "outputs": [
    {
     "data": {
      "text/plain": [
       "'C:\\\\Users\\\\mrsna\\\\TensorFlow_NeuralNetworks'"
      ]
     },
     "execution_count": 33,
     "metadata": {},
     "output_type": "execute_result"
    }
   ],
   "source": [
    "pwd"
   ]
  },
  {
   "cell_type": "code",
   "execution_count": 47,
   "id": "791ad033-41ea-4973-a4d8-ba0cfa1495a2",
   "metadata": {},
   "outputs": [],
   "source": [
    "import time\n",
    "timestamp = time.strftime(\"%Y-%m-%d_%H-%M-%S\")\n",
    "log_directory='logs\\\\fit\\\\'+timestamp\n",
    "board=TensorBoard(log_dir=log_directory,write_graph=True,write_images=True,update_freq='epoch',profile_batch=2,embeddings_freq=1)"
   ]
  },
  {
   "cell_type": "code",
   "execution_count": 51,
   "id": "452fdee7-85eb-41d2-bbb8-946c5cf7abe2",
   "metadata": {},
   "outputs": [],
   "source": [
    "model=Sequential()\n",
    "model.add(Dense(30,activation='relu'))\n",
    "model.add(Dropout(0.2))\n",
    "model.add(Dense(15,activation='relu'))\n",
    "model.add(Dropout(0.2))\n",
    "model.add(Dense(1,activation='sigmoid'))\n",
    "model.add(Dropout(0.2))\n",
    "model.compile(optimizer='adam',loss='binary_crossentropy')"
   ]
  },
  {
   "cell_type": "code",
   "execution_count": 53,
   "id": "58d0c50b-397e-4ba0-bd05-c4daa1cf3ee7",
   "metadata": {
    "scrolled": true
   },
   "outputs": [
    {
     "name": "stdout",
     "output_type": "stream",
     "text": [
      "Epoch 1/600\n",
      "14/14 [==============================] - 2s 33ms/step - loss: 2.5983 - val_loss: 0.6998\n",
      "Epoch 2/600\n",
      "14/14 [==============================] - 0s 11ms/step - loss: 2.0093 - val_loss: 0.6841\n",
      "Epoch 3/600\n",
      "14/14 [==============================] - 0s 9ms/step - loss: 2.6696 - val_loss: 0.6725\n",
      "Epoch 4/600\n",
      "14/14 [==============================] - 0s 8ms/step - loss: 2.4072 - val_loss: 0.6546\n",
      "Epoch 5/600\n",
      "14/14 [==============================] - 0s 8ms/step - loss: 2.7677 - val_loss: 0.6343\n",
      "Epoch 6/600\n",
      "14/14 [==============================] - 0s 12ms/step - loss: 2.5064 - val_loss: 0.6167\n",
      "Epoch 7/600\n",
      "14/14 [==============================] - 0s 10ms/step - loss: 2.7067 - val_loss: 0.6014\n",
      "Epoch 8/600\n",
      "14/14 [==============================] - 0s 7ms/step - loss: 2.1314 - val_loss: 0.5680\n",
      "Epoch 9/600\n",
      "14/14 [==============================] - 0s 9ms/step - loss: 2.0230 - val_loss: 0.5345\n",
      "Epoch 10/600\n",
      "14/14 [==============================] - 0s 12ms/step - loss: 2.6580 - val_loss: 0.5129\n",
      "Epoch 11/600\n",
      "14/14 [==============================] - 0s 8ms/step - loss: 2.1369 - val_loss: 0.4934\n",
      "Epoch 12/600\n",
      "14/14 [==============================] - 0s 7ms/step - loss: 2.4101 - val_loss: 0.4583\n",
      "Epoch 13/600\n",
      "14/14 [==============================] - 0s 7ms/step - loss: 2.4098 - val_loss: 0.4427\n",
      "Epoch 14/600\n",
      "14/14 [==============================] - 0s 8ms/step - loss: 1.9835 - val_loss: 0.4054\n",
      "Epoch 15/600\n",
      "14/14 [==============================] - 0s 7ms/step - loss: 2.7280 - val_loss: 0.3937\n",
      "Epoch 16/600\n",
      "14/14 [==============================] - 0s 7ms/step - loss: 1.8769 - val_loss: 0.3805\n",
      "Epoch 17/600\n",
      "14/14 [==============================] - 0s 8ms/step - loss: 1.7957 - val_loss: 0.3437\n",
      "Epoch 18/600\n",
      "14/14 [==============================] - 0s 8ms/step - loss: 2.2343 - val_loss: 0.3426\n",
      "Epoch 19/600\n",
      "14/14 [==============================] - 0s 9ms/step - loss: 1.9452 - val_loss: 0.3684\n",
      "Epoch 20/600\n",
      "14/14 [==============================] - 0s 7ms/step - loss: 2.4920 - val_loss: 0.3526\n",
      "Epoch 21/600\n",
      "14/14 [==============================] - 0s 7ms/step - loss: 2.2995 - val_loss: 0.3246\n",
      "Epoch 22/600\n",
      "14/14 [==============================] - 0s 13ms/step - loss: 2.2658 - val_loss: 0.3276\n",
      "Epoch 23/600\n",
      "14/14 [==============================] - 0s 10ms/step - loss: 2.2314 - val_loss: 0.3108\n",
      "Epoch 24/600\n",
      "14/14 [==============================] - 0s 8ms/step - loss: 2.3838 - val_loss: 0.2978\n",
      "Epoch 25/600\n",
      "14/14 [==============================] - 0s 8ms/step - loss: 2.2644 - val_loss: 0.2886\n",
      "Epoch 26/600\n",
      "14/14 [==============================] - 0s 8ms/step - loss: 1.8142 - val_loss: 0.2921\n",
      "Epoch 27/600\n",
      "14/14 [==============================] - 0s 8ms/step - loss: 2.3382 - val_loss: 0.2721\n",
      "Epoch 28/600\n",
      "14/14 [==============================] - 0s 8ms/step - loss: 1.8356 - val_loss: 0.3047\n",
      "Epoch 29/600\n",
      "14/14 [==============================] - 0s 8ms/step - loss: 1.9894 - val_loss: 0.2857\n",
      "Epoch 30/600\n",
      "14/14 [==============================] - 0s 7ms/step - loss: 2.0078 - val_loss: 0.2710\n",
      "Epoch 31/600\n",
      "14/14 [==============================] - 0s 7ms/step - loss: 2.5161 - val_loss: 0.2611\n",
      "Epoch 32/600\n",
      "14/14 [==============================] - 0s 7ms/step - loss: 2.0375 - val_loss: 0.2645\n",
      "Epoch 33/600\n",
      "14/14 [==============================] - 0s 8ms/step - loss: 2.2375 - val_loss: 0.2555\n",
      "Epoch 34/600\n",
      "14/14 [==============================] - 0s 8ms/step - loss: 2.4339 - val_loss: 0.2491\n",
      "Epoch 35/600\n",
      "14/14 [==============================] - 0s 8ms/step - loss: 1.9632 - val_loss: 0.2539\n",
      "Epoch 36/600\n",
      "14/14 [==============================] - 0s 9ms/step - loss: 2.2952 - val_loss: 0.2881\n",
      "Epoch 37/600\n",
      "14/14 [==============================] - 0s 8ms/step - loss: 2.0881 - val_loss: 0.2896\n",
      "Epoch 38/600\n",
      "14/14 [==============================] - 0s 7ms/step - loss: 1.8263 - val_loss: 0.2511\n",
      "Epoch 39/600\n",
      "14/14 [==============================] - 0s 7ms/step - loss: 2.4288 - val_loss: 0.2544\n",
      "Epoch 40/600\n",
      "14/14 [==============================] - 0s 7ms/step - loss: 1.8431 - val_loss: 0.2605\n",
      "Epoch 41/600\n",
      "14/14 [==============================] - 0s 8ms/step - loss: 1.7828 - val_loss: 0.2499\n",
      "Epoch 42/600\n",
      "14/14 [==============================] - 0s 9ms/step - loss: 2.1883 - val_loss: 0.2383\n",
      "Epoch 43/600\n",
      "14/14 [==============================] - 0s 8ms/step - loss: 2.1072 - val_loss: 0.2397\n",
      "Epoch 44/600\n",
      "14/14 [==============================] - 0s 9ms/step - loss: 2.1759 - val_loss: 0.2414\n",
      "Epoch 45/600\n",
      "14/14 [==============================] - 0s 8ms/step - loss: 2.0774 - val_loss: 0.2379\n",
      "Epoch 46/600\n",
      "14/14 [==============================] - 0s 8ms/step - loss: 2.0836 - val_loss: 0.2359\n",
      "Epoch 47/600\n",
      "14/14 [==============================] - 0s 7ms/step - loss: 2.4376 - val_loss: 0.2252\n",
      "Epoch 48/600\n",
      "14/14 [==============================] - 0s 7ms/step - loss: 2.1395 - val_loss: 0.2226\n",
      "Epoch 49/600\n",
      "14/14 [==============================] - 0s 8ms/step - loss: 2.5408 - val_loss: 0.2236\n",
      "Epoch 50/600\n",
      "14/14 [==============================] - 0s 9ms/step - loss: 1.5779 - val_loss: 0.2349\n",
      "Epoch 51/600\n",
      "14/14 [==============================] - 0s 8ms/step - loss: 2.2592 - val_loss: 0.2333\n",
      "Epoch 52/600\n",
      "14/14 [==============================] - 0s 8ms/step - loss: 1.8630 - val_loss: 0.2257\n",
      "Epoch 53/600\n",
      "14/14 [==============================] - 0s 8ms/step - loss: 2.3908 - val_loss: 0.2161\n",
      "Epoch 54/600\n",
      "14/14 [==============================] - 0s 7ms/step - loss: 1.9685 - val_loss: 0.2422\n",
      "Epoch 55/600\n",
      "14/14 [==============================] - 0s 8ms/step - loss: 1.7798 - val_loss: 0.2231\n",
      "Epoch 56/600\n",
      "14/14 [==============================] - 0s 9ms/step - loss: 1.8141 - val_loss: 0.2116\n",
      "Epoch 57/600\n",
      "14/14 [==============================] - 0s 12ms/step - loss: 1.7099 - val_loss: 0.2107\n",
      "Epoch 58/600\n",
      "14/14 [==============================] - 0s 10ms/step - loss: 2.3935 - val_loss: 0.2088\n",
      "Epoch 59/600\n",
      "14/14 [==============================] - 0s 16ms/step - loss: 1.9704 - val_loss: 0.2069\n",
      "Epoch 60/600\n",
      "14/14 [==============================] - 0s 8ms/step - loss: 2.0953 - val_loss: 0.2062\n",
      "Epoch 61/600\n",
      "14/14 [==============================] - 0s 7ms/step - loss: 2.1192 - val_loss: 0.2110\n",
      "Epoch 62/600\n",
      "14/14 [==============================] - 0s 7ms/step - loss: 1.9065 - val_loss: 0.2122\n",
      "Epoch 63/600\n",
      "14/14 [==============================] - 0s 12ms/step - loss: 2.0032 - val_loss: 0.2556\n",
      "Epoch 64/600\n",
      "14/14 [==============================] - 0s 8ms/step - loss: 1.7382 - val_loss: 0.2284\n",
      "Epoch 65/600\n",
      "14/14 [==============================] - 0s 8ms/step - loss: 2.0566 - val_loss: 0.2096\n",
      "Epoch 66/600\n",
      "14/14 [==============================] - 0s 12ms/step - loss: 2.1978 - val_loss: 0.2023\n",
      "Epoch 67/600\n",
      "14/14 [==============================] - 0s 11ms/step - loss: 1.9049 - val_loss: 0.1959\n",
      "Epoch 68/600\n",
      "14/14 [==============================] - 0s 10ms/step - loss: 1.9467 - val_loss: 0.2203\n",
      "Epoch 69/600\n",
      "14/14 [==============================] - 0s 9ms/step - loss: 2.3025 - val_loss: 0.2130\n",
      "Epoch 70/600\n",
      "14/14 [==============================] - 0s 10ms/step - loss: 2.1446 - val_loss: 0.1942\n",
      "Epoch 71/600\n",
      "14/14 [==============================] - 0s 10ms/step - loss: 2.4013 - val_loss: 0.1894\n",
      "Epoch 72/600\n",
      "14/14 [==============================] - 0s 9ms/step - loss: 2.0636 - val_loss: 0.1952\n",
      "Epoch 73/600\n",
      "14/14 [==============================] - 0s 10ms/step - loss: 1.6093 - val_loss: 0.1978\n",
      "Epoch 74/600\n",
      "14/14 [==============================] - 0s 10ms/step - loss: 2.0440 - val_loss: 0.1942\n",
      "Epoch 75/600\n",
      "14/14 [==============================] - 0s 8ms/step - loss: 2.1436 - val_loss: 0.1998\n",
      "Epoch 76/600\n",
      "14/14 [==============================] - 0s 10ms/step - loss: 1.8579 - val_loss: 0.1988\n",
      "Epoch 77/600\n",
      "14/14 [==============================] - 0s 11ms/step - loss: 1.4753 - val_loss: 0.1794\n",
      "Epoch 78/600\n",
      "14/14 [==============================] - 0s 9ms/step - loss: 1.8959 - val_loss: 0.1835\n",
      "Epoch 79/600\n",
      "14/14 [==============================] - 0s 9ms/step - loss: 2.1118 - val_loss: 0.1745\n",
      "Epoch 80/600\n",
      "14/14 [==============================] - 0s 12ms/step - loss: 2.2580 - val_loss: 0.1965\n",
      "Epoch 81/600\n",
      "14/14 [==============================] - 0s 9ms/step - loss: 1.9926 - val_loss: 0.1853\n",
      "Epoch 82/600\n",
      "14/14 [==============================] - 0s 10ms/step - loss: 1.6386 - val_loss: 0.1731\n",
      "Epoch 83/600\n",
      "14/14 [==============================] - 0s 8ms/step - loss: 2.1290 - val_loss: 0.1862\n",
      "Epoch 84/600\n",
      "14/14 [==============================] - 0s 8ms/step - loss: 2.0230 - val_loss: 0.1813\n",
      "Epoch 85/600\n",
      "14/14 [==============================] - 0s 8ms/step - loss: 1.7507 - val_loss: 0.2020\n",
      "Epoch 86/600\n",
      "14/14 [==============================] - 0s 7ms/step - loss: 2.2072 - val_loss: 0.1890\n",
      "Epoch 87/600\n",
      "14/14 [==============================] - 0s 7ms/step - loss: 1.6966 - val_loss: 0.2606\n",
      "Epoch 88/600\n",
      "14/14 [==============================] - 0s 11ms/step - loss: 2.1565 - val_loss: 0.2192\n",
      "Epoch 89/600\n",
      "14/14 [==============================] - 0s 9ms/step - loss: 1.7315 - val_loss: 0.2008\n",
      "Epoch 90/600\n",
      "14/14 [==============================] - 0s 10ms/step - loss: 1.6092 - val_loss: 0.1905\n",
      "Epoch 91/600\n",
      "14/14 [==============================] - 0s 10ms/step - loss: 2.0382 - val_loss: 0.1758\n",
      "Epoch 92/600\n",
      "14/14 [==============================] - 0s 8ms/step - loss: 2.0932 - val_loss: 0.1989\n",
      "Epoch 93/600\n",
      "14/14 [==============================] - 0s 9ms/step - loss: 1.9674 - val_loss: 0.2048\n",
      "Epoch 94/600\n",
      "14/14 [==============================] - 0s 8ms/step - loss: 1.5501 - val_loss: 0.1810\n",
      "Epoch 95/600\n",
      "14/14 [==============================] - 0s 9ms/step - loss: 2.2394 - val_loss: 0.1781\n",
      "Epoch 96/600\n",
      "14/14 [==============================] - 0s 9ms/step - loss: 2.0526 - val_loss: 0.1875\n",
      "Epoch 97/600\n",
      "14/14 [==============================] - 0s 11ms/step - loss: 1.8160 - val_loss: 0.1944\n",
      "Epoch 98/600\n",
      "14/14 [==============================] - 0s 13ms/step - loss: 2.3561 - val_loss: 0.1938\n",
      "Epoch 99/600\n",
      "14/14 [==============================] - 0s 13ms/step - loss: 1.7635 - val_loss: 0.1785\n",
      "Epoch 100/600\n",
      "14/14 [==============================] - 0s 14ms/step - loss: 1.8195 - val_loss: 0.1930\n",
      "Epoch 101/600\n",
      "14/14 [==============================] - 0s 12ms/step - loss: 2.1723 - val_loss: 0.1867\n",
      "Epoch 102/600\n",
      "14/14 [==============================] - 0s 11ms/step - loss: 2.2193 - val_loss: 0.2123\n",
      "Epoch 103/600\n",
      "14/14 [==============================] - 0s 11ms/step - loss: 2.0265 - val_loss: 0.1886\n",
      "Epoch 104/600\n",
      "14/14 [==============================] - 0s 9ms/step - loss: 1.9377 - val_loss: 0.1661\n",
      "Epoch 105/600\n",
      "14/14 [==============================] - 0s 8ms/step - loss: 1.9833 - val_loss: 0.1724\n",
      "Epoch 106/600\n",
      "14/14 [==============================] - 0s 10ms/step - loss: 2.1962 - val_loss: 0.1722\n",
      "Epoch 107/600\n",
      "14/14 [==============================] - 0s 11ms/step - loss: 2.3356 - val_loss: 0.1727\n",
      "Epoch 108/600\n",
      "14/14 [==============================] - 0s 11ms/step - loss: 1.8788 - val_loss: 0.1966\n",
      "Epoch 109/600\n",
      "14/14 [==============================] - 0s 9ms/step - loss: 2.3762 - val_loss: 0.1784\n",
      "Epoch 110/600\n",
      "14/14 [==============================] - 0s 12ms/step - loss: 2.3324 - val_loss: 0.1640\n",
      "Epoch 111/600\n",
      "14/14 [==============================] - 0s 12ms/step - loss: 1.8254 - val_loss: 0.1621\n",
      "Epoch 112/600\n",
      "14/14 [==============================] - 0s 10ms/step - loss: 1.8069 - val_loss: 0.2098\n",
      "Epoch 113/600\n",
      "14/14 [==============================] - 0s 10ms/step - loss: 2.1627 - val_loss: 0.1611\n",
      "Epoch 114/600\n",
      "14/14 [==============================] - 0s 10ms/step - loss: 2.1994 - val_loss: 0.1870\n",
      "Epoch 115/600\n",
      "14/14 [==============================] - 0s 10ms/step - loss: 2.2297 - val_loss: 0.1846\n",
      "Epoch 116/600\n",
      "14/14 [==============================] - 0s 11ms/step - loss: 1.8308 - val_loss: 0.1713\n",
      "Epoch 117/600\n",
      "14/14 [==============================] - 0s 9ms/step - loss: 1.9798 - val_loss: 0.1845\n",
      "Epoch 118/600\n",
      "14/14 [==============================] - 0s 7ms/step - loss: 1.8739 - val_loss: 0.1686\n",
      "Epoch 119/600\n",
      "14/14 [==============================] - 0s 7ms/step - loss: 2.3261 - val_loss: 0.1743\n",
      "Epoch 120/600\n",
      "14/14 [==============================] - 0s 10ms/step - loss: 1.9244 - val_loss: 0.1866\n",
      "Epoch 121/600\n",
      "14/14 [==============================] - 0s 7ms/step - loss: 2.4139 - val_loss: 0.1752\n",
      "Epoch 122/600\n",
      "14/14 [==============================] - 0s 7ms/step - loss: 1.9391 - val_loss: 0.1745\n",
      "Epoch 123/600\n",
      "14/14 [==============================] - 0s 7ms/step - loss: 2.2990 - val_loss: 0.1627\n",
      "Epoch 124/600\n",
      "14/14 [==============================] - 0s 8ms/step - loss: 2.1531 - val_loss: 0.1641\n",
      "Epoch 125/600\n",
      "14/14 [==============================] - 0s 7ms/step - loss: 1.9037 - val_loss: 0.1768\n",
      "Epoch 126/600\n",
      "14/14 [==============================] - 0s 6ms/step - loss: 2.2250 - val_loss: 0.2017\n",
      "Epoch 127/600\n",
      "14/14 [==============================] - 0s 9ms/step - loss: 1.7619 - val_loss: 0.1766\n",
      "Epoch 128/600\n",
      "14/14 [==============================] - 0s 8ms/step - loss: 1.8586 - val_loss: 0.1584\n",
      "Epoch 129/600\n",
      "14/14 [==============================] - 0s 6ms/step - loss: 2.1162 - val_loss: 0.1759\n",
      "Epoch 130/600\n",
      "14/14 [==============================] - 0s 9ms/step - loss: 1.7194 - val_loss: 0.1733\n",
      "Epoch 131/600\n",
      "14/14 [==============================] - 0s 7ms/step - loss: 2.0531 - val_loss: 0.1714\n",
      "Epoch 132/600\n",
      "14/14 [==============================] - 0s 7ms/step - loss: 1.9966 - val_loss: 0.1536\n",
      "Epoch 133/600\n",
      "14/14 [==============================] - 0s 7ms/step - loss: 1.6821 - val_loss: 0.1469\n",
      "Epoch 134/600\n",
      "14/14 [==============================] - 0s 7ms/step - loss: 2.8791 - val_loss: 0.1502\n",
      "Epoch 135/600\n",
      "14/14 [==============================] - 0s 6ms/step - loss: 1.8515 - val_loss: 0.1780\n",
      "Epoch 136/600\n",
      "14/14 [==============================] - 0s 6ms/step - loss: 1.8248 - val_loss: 0.1863\n",
      "Epoch 137/600\n",
      "14/14 [==============================] - 0s 7ms/step - loss: 1.4690 - val_loss: 0.1669\n",
      "Epoch 138/600\n",
      "14/14 [==============================] - 0s 6ms/step - loss: 1.6776 - val_loss: 0.1568\n",
      "Epoch 139/600\n",
      "14/14 [==============================] - 0s 8ms/step - loss: 2.2161 - val_loss: 0.1624\n",
      "Epoch 140/600\n",
      "14/14 [==============================] - 0s 9ms/step - loss: 2.0689 - val_loss: 0.3220\n",
      "Epoch 141/600\n",
      "14/14 [==============================] - 0s 8ms/step - loss: 2.1633 - val_loss: 0.3057\n",
      "Epoch 142/600\n",
      "14/14 [==============================] - 0s 11ms/step - loss: 2.2354 - val_loss: 0.2703\n",
      "Epoch 143/600\n",
      "14/14 [==============================] - 0s 8ms/step - loss: 2.0415 - val_loss: 0.2100\n",
      "Epoch 144/600\n",
      "14/14 [==============================] - 0s 7ms/step - loss: 1.8354 - val_loss: 0.1857\n",
      "Epoch 145/600\n",
      "14/14 [==============================] - 0s 7ms/step - loss: 2.0960 - val_loss: 0.1838\n",
      "Epoch 146/600\n",
      "14/14 [==============================] - 0s 7ms/step - loss: 2.2423 - val_loss: 0.1992\n",
      "Epoch 147/600\n",
      "14/14 [==============================] - 0s 7ms/step - loss: 1.9733 - val_loss: 0.2009\n",
      "Epoch 148/600\n",
      "14/14 [==============================] - 0s 7ms/step - loss: 2.4132 - val_loss: 0.1806\n",
      "Epoch 149/600\n",
      "14/14 [==============================] - 0s 7ms/step - loss: 1.9732 - val_loss: 0.1728\n",
      "Epoch 150/600\n",
      "14/14 [==============================] - 0s 10ms/step - loss: 1.6178 - val_loss: 0.1863\n",
      "Epoch 151/600\n",
      "14/14 [==============================] - 0s 10ms/step - loss: 2.1302 - val_loss: 0.2179\n",
      "Epoch 152/600\n",
      "14/14 [==============================] - 0s 12ms/step - loss: 2.0291 - val_loss: 0.2565\n",
      "Epoch 153/600\n",
      "14/14 [==============================] - 0s 9ms/step - loss: 2.3175 - val_loss: 0.2234\n",
      "Epoch 154/600\n",
      "14/14 [==============================] - 0s 8ms/step - loss: 1.8507 - val_loss: 0.1925\n",
      "Epoch 155/600\n",
      "14/14 [==============================] - 0s 8ms/step - loss: 2.2054 - val_loss: 0.1912\n",
      "Epoch 156/600\n",
      "14/14 [==============================] - 0s 7ms/step - loss: 2.3529 - val_loss: 0.2048\n",
      "Epoch 157/600\n",
      "14/14 [==============================] - 0s 7ms/step - loss: 2.1714 - val_loss: 0.2136\n",
      "Epoch 158/600\n",
      "14/14 [==============================] - 0s 11ms/step - loss: 1.8536 - val_loss: 0.2027\n"
     ]
    },
    {
     "data": {
      "text/plain": [
       "<keras.src.callbacks.History at 0x1b1d47c9880>"
      ]
     },
     "execution_count": 53,
     "metadata": {},
     "output_type": "execute_result"
    }
   ],
   "source": [
    "model.fit(x=X_train,y=y_train,validation_data=(X_test,y_test),epochs=600,workers=5,use_multiprocessing=True,callbacks=[early_stop,board])"
   ]
  },
  {
   "cell_type": "code",
   "execution_count": 72,
   "id": "41993124-6de4-461d-935e-9c939f01222c",
   "metadata": {},
   "outputs": [],
   "source": [
    "df_loss=pd.DataFrame(model.history.history)"
   ]
  },
  {
   "cell_type": "code",
   "execution_count": 74,
   "id": "49ca1a08-4b1e-467c-a120-0953ae04ab9e",
   "metadata": {},
   "outputs": [
    {
     "data": {
      "text/plain": [
       "<Axes: >"
      ]
     },
     "execution_count": 74,
     "metadata": {},
     "output_type": "execute_result"
    },
    {
     "data": {
      "image/png": "[encoded data removed]",
      "text/plain": [
       "<Figure size 640x480 with 1 Axes>"
      ]
     },
     "metadata": {},
     "output_type": "display_data"
    }
   ],
   "source": [
    "df_loss.plot()"
   ]
  },
  {
   "cell_type": "markdown",
   "id": "203145b3-3373-4571-ae06-96013655febf",
   "metadata": {},
   "source": [
    "### Running TensorBoard"
   ]
  },
  {
   "cell_type": "code",
   "execution_count": 62,
   "id": "e67269fe-8bd9-4b84-94fe-9c89640a09b2",
   "metadata": {},
   "outputs": [],
   "source": [
    "#cd C:\\\\Users\\\\mrsna\\\\TensorFlow_NeuralNetworks\\\n",
    "# tensorboard --logdir logs\\\\fit\\\\2024-10-20_18-40-28'"
   ]
  },
  {
   "cell_type": "code",
   "execution_count": 66,
   "id": "6c95597a-d598-4411-a949-29a53df4b2d4",
   "metadata": {},
   "outputs": [
    {
     "data": {
      "text/plain": [
       "'C:\\\\Users\\\\mrsna\\\\TensorFlow_NeuralNetworks'"
      ]
     },
     "execution_count": 66,
     "metadata": {},
     "output_type": "execute_result"
    }
   ],
   "source": [
    "pwd"
   ]
  },
  {
   "cell_type": "code",
   "execution_count": 68,
   "id": "545b8a12-2ca1-49b7-8775-c96bf7bca7b2",
   "metadata": {},
   "outputs": [
    {
     "data": {
      "text/plain": [
       "'logs\\\\fit\\\\2024-10-20_18-40-28'"
      ]
     },
     "execution_count": 68,
     "metadata": {},
     "output_type": "execute_result"
    }
   ],
   "source": [
    "log_directory"
   ]
  }
 ],
 "metadata": {
  "kernelspec": {
   "display_name": "Python (py_tf)",
   "language": "python",
   "name": "py_tf"
  },
  "language_info": {
   "codemirror_mode": {
    "name": "ipython",
    "version": 3
   },
   "file_extension": ".py",
   "mimetype": "text/x-python",
   "name": "python",
   "nbconvert_exporter": "python",
   "pygments_lexer": "ipython3",
   "version": "3.8.20"
  }
 },
 "nbformat": 4,
 "nbformat_minor": 5
}
