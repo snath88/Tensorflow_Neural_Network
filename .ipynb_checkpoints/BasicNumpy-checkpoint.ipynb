{
 "cells": [
  {
   "cell_type": "code",
   "execution_count": 1,
   "id": "7c2b5559-207f-4a56-af9f-95d76c9426b6",
   "metadata": {},
   "outputs": [],
   "source": [
    "import numpy as np"
   ]
  },
  {
   "cell_type": "code",
   "execution_count": 3,
   "id": "67066e2f-7368-4fa8-9406-cdb0b5877e30",
   "metadata": {},
   "outputs": [],
   "source": [
    "nested_list=[[1,2],[3,4],[5,6]]"
   ]
  },
  {
   "cell_type": "code",
   "execution_count": 5,
   "id": "babbb206-53f8-4d27-bc81-8b9802b5d7a0",
   "metadata": {},
   "outputs": [
    {
     "data": {
      "text/plain": [
       "array([[1, 2],\n",
       "       [3, 4],\n",
       "       [5, 6]])"
      ]
     },
     "execution_count": 5,
     "metadata": {},
     "output_type": "execute_result"
    }
   ],
   "source": [
    "np.array(nested_list)"
   ]
  },
  {
   "cell_type": "code",
   "execution_count": 7,
   "id": "59c66ae9-3f7c-44c7-95a2-38b7d33047a2",
   "metadata": {},
   "outputs": [
    {
     "data": {
      "text/plain": [
       "array([[1., 1., 1., 1., 1.],\n",
       "       [1., 1., 1., 1., 1.],\n",
       "       [1., 1., 1., 1., 1.],\n",
       "       [1., 1., 1., 1., 1.]])"
      ]
     },
     "execution_count": 7,
     "metadata": {},
     "output_type": "execute_result"
    }
   ],
   "source": [
    "np.ones((4,5))"
   ]
  },
  {
   "cell_type": "code",
   "execution_count": 17,
   "id": "46cc6453-1072-4746-9647-003365350f1e",
   "metadata": {},
   "outputs": [
    {
     "data": {
      "text/plain": [
       "array([[ 0.        ,  1.11111111,  2.22222222,  3.33333333,  4.44444444],\n",
       "       [ 5.55555556,  6.66666667,  7.77777778,  8.88888889, 10.        ]])"
      ]
     },
     "execution_count": 17,
     "metadata": {},
     "output_type": "execute_result"
    }
   ],
   "source": [
    "np.linspace(0,10,10).reshape(2,5)   ###Return evenly spaced numbers over a specified interval"
   ]
  },
  {
   "cell_type": "code",
   "execution_count": 19,
   "id": "5e338ecf-2658-421f-93e2-b9d94dff207e",
   "metadata": {},
   "outputs": [
    {
     "data": {
      "text/plain": [
       "array([[0.49118245, 0.14579681, 0.36939367, 0.14200025],\n",
       "       [0.80997582, 0.23480259, 0.66913334, 0.18901607],\n",
       "       [0.5643834 , 0.88135898, 0.89577857, 0.97562318]])"
      ]
     },
     "execution_count": 19,
     "metadata": {},
     "output_type": "execute_result"
    }
   ],
   "source": [
    "##Create an array of the given shape and populate it with random samples from a uniform distribution\n",
    "##over ``[0, 1]\n",
    "np.random.rand(3,4)"
   ]
  },
  {
   "cell_type": "code",
   "execution_count": 23,
   "id": "6b45112c-1527-4b95-b24d-90d28e1b3e97",
   "metadata": {},
   "outputs": [
    {
     "data": {
      "text/plain": [
       "array([[-0.01086513,  0.43828211,  0.62937441,  0.04630691],\n",
       "       [ 0.77265561,  1.61579673,  0.50537468, -0.76014596],\n",
       "       [-0.22648335,  0.5896527 , -0.41412144,  2.11021355]])"
      ]
     },
     "execution_count": 23,
     "metadata": {},
     "output_type": "execute_result"
    }
   ],
   "source": [
    "# Return a sample (or samples) from the \"standard normal\" distribution. [-1,1]\n",
    "np.random.randn(3,4)"
   ]
  },
  {
   "cell_type": "code",
   "execution_count": 25,
   "id": "25ba025b-2266-4218-8360-a3a4a93a0860",
   "metadata": {},
   "outputs": [
    {
     "data": {
      "text/plain": [
       "array([[3, 1, 1],\n",
       "       [1, 4, 1],\n",
       "       [4, 1, 4],\n",
       "       [4, 2, 1]])"
      ]
     },
     "execution_count": 25,
     "metadata": {},
     "output_type": "execute_result"
    }
   ],
   "source": [
    "# Return random integers from the \"discrete uniform\" distribution of\n",
    "# the specified dtype in the \"half-open\" interval [`low`, `high`). If\n",
    "# `high` is None (the default), then results are from [0, `low`).\n",
    "\n",
    "np.random.randint(1,5,(4,3))"
   ]
  },
  {
   "cell_type": "code",
   "execution_count": 27,
   "id": "5a427ccf-7da6-49c4-8c6e-9c8479f0ad89",
   "metadata": {},
   "outputs": [],
   "source": [
    "arr1=np.random.randn(4,3)"
   ]
  },
  {
   "cell_type": "code",
   "execution_count": 29,
   "id": "de33e6aa-b4fb-4502-8dff-dbeb1333e171",
   "metadata": {},
   "outputs": [
    {
     "data": {
      "text/plain": [
       "(4, 3)"
      ]
     },
     "execution_count": 29,
     "metadata": {},
     "output_type": "execute_result"
    }
   ],
   "source": [
    "arr1.shape"
   ]
  },
  {
   "cell_type": "code",
   "execution_count": 31,
   "id": "c33f60f9-9195-459a-8f72-7c151f8ecf78",
   "metadata": {},
   "outputs": [
    {
     "data": {
      "text/plain": [
       "array([[ 0.37714496, -0.31570773,  0.02084228],\n",
       "       [-0.84916557, -1.10184701, -1.07168877],\n",
       "       [ 0.94314524, -0.58761141, -0.85632808],\n",
       "       [ 0.14525935,  1.04759681, -0.5348825 ]])"
      ]
     },
     "execution_count": 31,
     "metadata": {},
     "output_type": "execute_result"
    }
   ],
   "source": [
    "arr1"
   ]
  },
  {
   "cell_type": "code",
   "execution_count": 35,
   "id": "6795d957-5d15-4f23-9935-2564e331586d",
   "metadata": {},
   "outputs": [
    {
     "data": {
      "text/plain": [
       "array([ 0.37714496, -0.31570773,  0.02084228])"
      ]
     },
     "execution_count": 35,
     "metadata": {},
     "output_type": "execute_result"
    }
   ],
   "source": [
    "arr1[0]  ##0th row"
   ]
  },
  {
   "cell_type": "code",
   "execution_count": 39,
   "id": "c9288032-4e4b-430b-9090-b8f2ac5b6b3a",
   "metadata": {},
   "outputs": [
    {
     "data": {
      "text/plain": [
       "(-1.0716887682503153, -1.0716887682503153)"
      ]
     },
     "execution_count": 39,
     "metadata": {},
     "output_type": "execute_result"
    }
   ],
   "source": [
    "arr1[1][2], arr1[1,2]  ###row 1 column 2"
   ]
  },
  {
   "cell_type": "code",
   "execution_count": 45,
   "id": "c4eb5f2f-ed8f-4d94-89a9-b08759cb5546",
   "metadata": {},
   "outputs": [
    {
     "data": {
      "text/plain": [
       "array([[-1.10184701, -1.07168877],\n",
       "       [-0.58761141, -0.85632808]])"
      ]
     },
     "execution_count": 45,
     "metadata": {},
     "output_type": "execute_result"
    }
   ],
   "source": [
    "arr1[1:3,1:3]  ###1 to 2 row and 1to 2 column"
   ]
  },
  {
   "cell_type": "code",
   "execution_count": 49,
   "id": "7dece2a9-2ed9-4ad7-8aa0-86078fac6318",
   "metadata": {},
   "outputs": [
    {
     "data": {
      "text/plain": [
       "array([[-0.31570773,  0.02084228],\n",
       "       [-1.10184701, -1.07168877],\n",
       "       [-0.58761141, -0.85632808],\n",
       "       [ 1.04759681, -0.5348825 ]])"
      ]
     },
     "execution_count": 49,
     "metadata": {},
     "output_type": "execute_result"
    }
   ],
   "source": [
    "arr1[:,1:]  ##all rows and 1to all columns"
   ]
  },
  {
   "cell_type": "code",
   "execution_count": 57,
   "id": "33915826-787e-4d3e-93d8-f81f40b7eb1b",
   "metadata": {},
   "outputs": [
    {
     "data": {
      "text/plain": [
       "array([0.37714496, 0.02084228, 0.94314524, 0.14525935, 1.04759681])"
      ]
     },
     "execution_count": 57,
     "metadata": {},
     "output_type": "execute_result"
    }
   ],
   "source": [
    "arr1[arr1>0]  ### boolean operator"
   ]
  },
  {
   "cell_type": "code",
   "execution_count": 65,
   "id": "06fa558f-297e-4f7f-b649-eb2bd28a5d61",
   "metadata": {},
   "outputs": [
    {
     "data": {
      "text/plain": [
       "(-0.2319368701499147, 0.7102370437094284, 1.047596809158175)"
      ]
     },
     "execution_count": 65,
     "metadata": {},
     "output_type": "execute_result"
    }
   ],
   "source": [
    "arr1.mean(), arr1.std(),arr1.max()"
   ]
  },
  {
   "cell_type": "code",
   "execution_count": 71,
   "id": "8c3517f5-e0bf-4324-8771-dadc6cf7e1a2",
   "metadata": {},
   "outputs": [
    {
     "data": {
      "text/plain": [
       "array([[ 0,  1,  2,  3],\n",
       "       [ 4,  5,  6,  7],\n",
       "       [ 8,  9, 10, 11],\n",
       "       [12, 13, 14, 15],\n",
       "       [16, 17, 18, 19]])"
      ]
     },
     "execution_count": 71,
     "metadata": {},
     "output_type": "execute_result"
    }
   ],
   "source": [
    "arr2=np.arange(0,20).reshape(5,4)\n",
    "arr2"
   ]
  },
  {
   "cell_type": "code",
   "execution_count": 75,
   "id": "6252b940-d715-413b-8af1-6f9114039157",
   "metadata": {},
   "outputs": [
    {
     "data": {
      "text/plain": [
       "190"
      ]
     },
     "execution_count": 75,
     "metadata": {},
     "output_type": "execute_result"
    }
   ],
   "source": [
    "arr2.sum()"
   ]
  },
  {
   "cell_type": "code",
   "execution_count": 83,
   "id": "1721f93a-5533-43d8-90be-41653551e65b",
   "metadata": {},
   "outputs": [
    {
     "data": {
      "text/plain": [
       "array([40, 45, 50, 55])"
      ]
     },
     "execution_count": 83,
     "metadata": {},
     "output_type": "execute_result"
    }
   ],
   "source": [
    "arr2.sum(axis=0)  #### sum across row (0,4,8,12,16)"
   ]
  },
  {
   "cell_type": "code",
   "execution_count": 87,
   "id": "86c28d11-0e38-4c04-877b-c43eac9df576",
   "metadata": {},
   "outputs": [
    {
     "data": {
      "text/plain": [
       "array([ 6, 22, 38, 54, 70])"
      ]
     },
     "execution_count": 87,
     "metadata": {},
     "output_type": "execute_result"
    }
   ],
   "source": [
    "arr2.sum(axis=1)  ###### sum across columns (0,4,8,12,16)"
   ]
  }
 ],
 "metadata": {
  "kernelspec": {
   "display_name": "py3-TF2",
   "language": "python",
   "name": "py3-tf2"
  },
  "language_info": {
   "codemirror_mode": {
    "name": "ipython",
    "version": 3
   },
   "file_extension": ".py",
   "mimetype": "text/x-python",
   "name": "python",
   "nbconvert_exporter": "python",
   "pygments_lexer": "ipython3",
   "version": "3.10.15"
  }
 },
 "nbformat": 4,
 "nbformat_minor": 5
}
